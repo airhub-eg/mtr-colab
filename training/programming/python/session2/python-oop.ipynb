{
 "cells": [
  {
   "cell_type": "markdown",
   "id": "6db9b742",
   "metadata": {},
   "source": [
    "![Logo](https://lh3.googleusercontent.com/rd-d/ALs6j_Gtv7fMhmDaevOH2OeucpICri2FTSOXZmywnoPyyDvN0YReLBasQiuy1ujtDAoR10oFVnqr4QWIA_gXb8eaGzhud9LP_Po3kO7o9hdLJ1lSzYuFTt9yaKQC3UDwQ9ONsxvuT7-aCX3hIfkO11szMSWW3s3BF9lowNC0kUz9SagHNDUsGy62aJE4KsRkMx13PNBkJhU5Hzbz_EsfmciCxp_pGT5UppZwAr_iiyFm-6kp-R6z9ihowL23bV31Q2mxoHrp_QXgkaeA1mCWUOs9dBHrYks6VVAoV28w1IoIX_9Tbqtmhx8SrFIw66Mx7jNVE_fxYmGfzYC9jHkA8uqIXoFHUMwAVoB4QkG-geKRbHNrxB_vTfmDmb2e8OI5kxTdsJQA5TWprDyTYrQ89jmnP6oX0rxACrNckQJdHtMJ0s64whGM5GOi1m3bg6V-8uZi98k1mf3v5yPjl5gB3_ixaDMPUO9IfpxWtpe5pjHfJEpIhcrFm-49dT2y0uU_hC1WokeNhK_fGaCucFGJmbC47N45W4piRCgjV80OdZGv2Wv_Su63KwlKU-6PX7GvT0ayel3wNJK61D6M-Ig0qNi9UAMOMOP13gswxzjkSAVypLi01GlxiL7nggUznrNobRtO_3a2qayigu4m94OYMBdAyJClMNnF1zk1UQFXV6FQaK5sKRrdeLBZFRYCbkzKl-Fc11oiKXHr0_sg65LpVkuXXUPFxeLpf5oCIElnpjZiXP9HndN5S5kBv7_03SkTSx0NFBrOXG3YTeHb36PiDxpuQKbbKJzwogv0kYkRumATniHjFy3p_bsiQCWpTS8o-g2SOfbYZaWBx5qREcEN69w8PMA_IUOGYQNSjWi6_6sYaRXe96imqPGQb28d3Hz5gZ5AlqDzCYSXReXtvtK40QjM5b5hbax0tZrPicVkSOyV8lsflShOs-z3g1mhXOb0f_uU_Sihi79E6ouKxNgwXLiOnbWKsDqDtWjoeQKlj462pDaq5fLriTiqFij-BXeAjYocACkUscluFHjnb6dhtcRWLfOfUVqDowQT_sMSwZwAIis7Fjk_fy0kn7C44lA-p4rd05NJnq0CA3QTMg1TPGZSXWJKSFJ6lU8Zr0ay7fVvowA-sseYMH5IwYlDSB0M_vn7xmF1wTIOKJ2XO_WMqSzabLTyxrI3o_JjNFYt6cvKWYITbW7melB_n3ZdbaPBCWW9fEwGft8X-w8IAxGqvB8_TeRhyn5V=w1920-h922?auditContext=prefetch)\n",
    "# Session #02 Python OOP\n",
    "ROS nodes are often implemented as classes. This is non-negotiable.\\\n",
    "Prepared by: ***AIR-HUB Technical Team***\\\n",
    "*Copyright © 2025 AIRHUB*"
   ]
  },
  {
   "cell_type": "markdown",
   "id": "8a4fc748",
   "metadata": {},
   "source": [
    "## 1. Encapsulation: The Blueprint and the Object\n",
    "Encapsulation bundles data (attributes) and methods (functions) that operate on that data into a single unit, a class. It also controls access to the inner workings.\n",
    "\n",
    "Code Example:"
   ]
  },
  {
   "cell_type": "code",
   "execution_count": 14,
   "id": "4f4772ae",
   "metadata": {},
   "outputs": [],
   "source": [
    "class BankAccount:\n",
    "    # The Constructor (__init__ method)\n",
    "    def __init__(self, account_holder, initial_balance):\n",
    "        # Public Attribute\n",
    "        self.account_holder = account_holder\n",
    "\n",
    "        self._balancepro = initial_balance\n",
    "\n",
    "        # Private Attribute (indicated by double underscore __)\n",
    "        # This is \"name mangled\" to make it harder to access directly.\n",
    "        self.__balance = initial_balance\n",
    "\n",
    "    # Public Method (part of the public interface)\n",
    "    def deposit(self, amount):\n",
    "        if amount > 0:\n",
    "            self.__balance += amount\n",
    "            print(f\"Deposited ${amount}. New balance: ${self.__balance}\")\n",
    "        else:\n",
    "            print(\"Invalid deposit amount.\")\n",
    "\n",
    "    def get_balance(self):\n",
    "        # A public method to provide controlled access to the private balance.\n",
    "        return self.__balance"
   ]
  },
  {
   "cell_type": "code",
   "execution_count": 16,
   "id": "a837fa4d",
   "metadata": {},
   "outputs": [],
   "source": [
    "# Creating an object (instance) of the BankAccount class\n",
    "my_account = BankAccount(\"Alice\", 1000)"
   ]
  },
  {
   "cell_type": "code",
   "execution_count": 18,
   "id": "6890150d",
   "metadata": {},
   "outputs": [
    {
     "name": "stdout",
     "output_type": "stream",
     "text": [
      "Alice\n"
     ]
    }
   ],
   "source": [
    "# Accessing a public attribute\n",
    "print(my_account.account_holder)  # Output: Alice"
   ]
  },
  {
   "cell_type": "code",
   "execution_count": 4,
   "id": "489a92bc",
   "metadata": {},
   "outputs": [
    {
     "name": "stdout",
     "output_type": "stream",
     "text": [
      "Deposited $500. New balance: $1500\n"
     ]
    }
   ],
   "source": [
    "# Using public methods to interact with the object's state\n",
    "my_account.deposit(500)  # Output: Deposited $500. New balance: $1500"
   ]
  },
  {
   "cell_type": "code",
   "execution_count": 7,
   "id": "67d47bf5",
   "metadata": {},
   "outputs": [],
   "source": [
    "# Trying to access the private attribute directly (from outside the class) will fail.\n",
    "#print(my_account.__balance)  # This would cause an AttributeError."
   ]
  },
  {
   "cell_type": "code",
   "execution_count": 6,
   "id": "7a3743c8",
   "metadata": {},
   "outputs": [
    {
     "name": "stdout",
     "output_type": "stream",
     "text": [
      "1500\n"
     ]
    }
   ],
   "source": [
    "# The correct way to get the balance is via the public method.\n",
    "print(my_account.get_balance())  # Output: 1500"
   ]
  },
  {
   "cell_type": "markdown",
   "id": "41ea7703",
   "metadata": {},
   "source": [
    "## 2. Inheritance: The \"Is-A\" Relationship\n",
    "Inheritance allows a new class (child) to inherit attributes and methods from an existing class (parent). This promotes code reuse and establishes a hierarchy.\n",
    "\n",
    "Code Example:"
   ]
  },
  {
   "cell_type": "code",
   "execution_count": 9,
   "id": "694480da",
   "metadata": {},
   "outputs": [],
   "source": [
    "# Parent Class (Base Class)\n",
    "class Vehicle:\n",
    "    def __init__(self, make, model):\n",
    "        self.make = make\n",
    "        self.model = model\n",
    "        self.is_running = False\n",
    "\n",
    "    def start_engine(self):\n",
    "        self.is_running = True\n",
    "        print(f\"The {self.make} {self.model}'s engine is now running.\")\n",
    "\n",
    "    def stop_engine(self):\n",
    "        self.is_running = False\n",
    "        print(f\"The {self.make} {self.model}'s engine is now off.\")"
   ]
  },
  {
   "cell_type": "code",
   "execution_count": 10,
   "id": "3da277e9",
   "metadata": {},
   "outputs": [],
   "source": [
    "# Child Class (Derived Class) - Inherits from Vehicle\n",
    "class Car(Vehicle):\n",
    "    def __init__(self, make, model, num_doors):\n",
    "        # Using super() to call the parent class's __init__ method\n",
    "        super().__init__(make, model)\n",
    "        # Adding a new attribute specific to Car\n",
    "        self.num_doors = num_doors\n",
    "\n",
    "    # Adding a new method specific to Car\n",
    "    def honk_horn(self):\n",
    "        print(\"Beep beep!\")"
   ]
  },
  {
   "cell_type": "code",
   "execution_count": 11,
   "id": "1f7eb278",
   "metadata": {},
   "outputs": [],
   "source": [
    "# Another Child Class that Overrides a method\n",
    "class ElectricCar(Car):\n",
    "    def __init__(self, make, model, num_doors, battery_size):\n",
    "        super().__init__(make, model, num_doors)\n",
    "        self.battery_size = battery_size\n",
    "\n",
    "    # Method Overriding: Providing a new implementation for the parent's method.\n",
    "    def start_engine(self):\n",
    "        # Electric cars don't have a traditional \"engine\"\n",
    "        self.is_running = True\n",
    "        print(f\"The {self.make} {self.model} is now powered on (silently).\")"
   ]
  },
  {
   "cell_type": "code",
   "execution_count": 12,
   "id": "c884ebac",
   "metadata": {},
   "outputs": [
    {
     "name": "stdout",
     "output_type": "stream",
     "text": [
      "The Toyota Corolla's engine is now running.\n",
      "Beep beep!\n"
     ]
    }
   ],
   "source": [
    "# Using the classes\n",
    "my_car = Car(\"Toyota\", \"Corolla\", 4)\n",
    "my_car.start_engine()  # Inherited method from Vehicle\n",
    "my_car.honk_horn()     # Method from Car"
   ]
  },
  {
   "cell_type": "code",
   "execution_count": 13,
   "id": "1abcbe07",
   "metadata": {},
   "outputs": [
    {
     "name": "stdout",
     "output_type": "stream",
     "text": [
      "The Tesla Model S is now powered on (silently).\n"
     ]
    }
   ],
   "source": [
    "my_tesla = ElectricCar(\"Tesla\", \"Model S\", 4, \"100kWh\")\n",
    "my_tesla.start_engine() # This uses the overridden method in ElectricCar"
   ]
  },
  {
   "cell_type": "markdown",
   "id": "6049cd0d",
   "metadata": {},
   "source": [
    "## 3. Polymorphism: \"Many Forms\" and Duck Typing\n",
    "Polymorphism allows objects of different classes to be treated as objects of a common superclass. The focus is on the interface (what methods an object has) rather than its exact type.\n",
    "\n",
    "Code Example:"
   ]
  },
  {
   "cell_type": "code",
   "execution_count": 19,
   "id": "0379fa0b",
   "metadata": {},
   "outputs": [],
   "source": [
    "# Different classes with the same method name.\n",
    "class Dog:\n",
    "    def speak(self):\n",
    "        return \"Woof!\""
   ]
  },
  {
   "cell_type": "code",
   "execution_count": 20,
   "id": "680a58c7",
   "metadata": {},
   "outputs": [],
   "source": [
    "class Cat:\n",
    "    def speak(self):\n",
    "        return \"Meow!\""
   ]
  },
  {
   "cell_type": "code",
   "execution_count": 21,
   "id": "4bcbb627",
   "metadata": {},
   "outputs": [],
   "source": [
    "class Robot:\n",
    "    def speak(self):\n",
    "        return \"Beep boop.\""
   ]
  },
  {
   "cell_type": "code",
   "execution_count": 22,
   "id": "1a1c1871",
   "metadata": {},
   "outputs": [
    {
     "name": "stdout",
     "output_type": "stream",
     "text": [
      "Woof!\n",
      "Meow!\n",
      "Beep boop.\n"
     ]
    }
   ],
   "source": [
    "# This function demonstrates polymorphism.\n",
    "# It doesn't care about the object's type, only that it has a .speak() method.\n",
    "def make_it_talk(creature):\n",
    "    print(creature.speak())\n",
    "\n",
    "# Creating objects of different classes\n",
    "my_dog = Dog()\n",
    "my_cat = Cat()\n",
    "my_robot = Robot()\n",
    "\n",
    "# Passing different objects to the same function\n",
    "make_it_talk(my_dog)   # Output: Woof!\n",
    "make_it_talk(my_cat)   # Output: Meow!\n",
    "make_it_talk(my_robot) # Output: Beep boop!\n",
    "\n",
    "# This is \"Duck Typing\" in action.\n",
    "# \"If it has a .speak() method, it can be passed to make_it_talk().\""
   ]
  },
  {
   "cell_type": "markdown",
   "id": "3515dbea",
   "metadata": {},
   "source": [
    "## 4. Abstraction: Hiding Implementation Details\n",
    "Abstraction forces a clear separation between the interface (what an object does) and its implementation (how it does it). Abstract Base Classes (ABCs) are used to define a blueprint that other classes must follow.\n",
    "\n",
    "Code Example:"
   ]
  },
  {
   "cell_type": "code",
   "execution_count": 23,
   "id": "3d8f4b11",
   "metadata": {},
   "outputs": [],
   "source": [
    "from abc import ABC, abstractmethod\n",
    "\n",
    "# Abstract Base Class (ABC)\n",
    "class Shape(ABC):\n",
    "\n",
    "    @abstractmethod\n",
    "    def calculate_area(self):\n",
    "        # This method MUST be implemented by any concrete (non-abstract) subclass.\n",
    "        pass\n",
    "\n",
    "    @abstractmethod\n",
    "    def calculate_perimeter(self):\n",
    "        # This method MUST also be implemented.\n",
    "        pass"
   ]
  },
  {
   "cell_type": "code",
   "execution_count": 24,
   "id": "3732fcd6",
   "metadata": {},
   "outputs": [],
   "source": [
    "# Concrete Subclasses that implement the abstract methods.\n",
    "class Circle(Shape):\n",
    "    def __init__(self, radius):\n",
    "        self.radius = radius\n",
    "\n",
    "    def calculate_area(self):\n",
    "        return 3.14159 * (self.radius ** 2)\n",
    "\n",
    "    def calculate_perimeter(self):\n",
    "        return 2 * 3.14159 * self.radius"
   ]
  },
  {
   "cell_type": "code",
   "execution_count": 25,
   "id": "cfb8ef8e",
   "metadata": {},
   "outputs": [],
   "source": [
    "class Rectangle(Shape):\n",
    "    def __init__(self, length, width):\n",
    "        self.length = length\n",
    "        self.width = width\n",
    "\n",
    "    def calculate_area(self):\n",
    "        return self.length * self.width\n",
    "\n",
    "    def calculate_perimeter(self):\n",
    "        return 2 * (self.length + self.width)"
   ]
  },
  {
   "cell_type": "code",
   "execution_count": 29,
   "id": "bdfce110",
   "metadata": {},
   "outputs": [
    {
     "name": "stdout",
     "output_type": "stream",
     "text": [
      "Circle area: 78.53975\n",
      "Rectangle perimeter: 20\n"
     ]
    }
   ],
   "source": [
    "# Using the concrete classes\n",
    "circle = Circle(5)\n",
    "rectangle = Rectangle(4, 6)\n",
    "\n",
    "print(f\"Circle area: {circle.calculate_area()}\")       # Output: Circle area: 78.53975\n",
    "print(f\"Rectangle perimeter: {rectangle.calculate_perimeter()}\") # Output: Rectangle perimeter: 20\n",
    "\n",
    "# You CANNOT create an instance of the abstract class Shape.\n",
    "#shape = Shape()  # This would raise a TypeError."
   ]
  },
  {
   "cell_type": "markdown",
   "id": "56d4ca05",
   "metadata": {},
   "source": [
    "Summary of Code Examples:\n",
    "- Encapsulation: The BankAccount class bundles data (__balance) and methods (deposit, get_balance) and protects the sensitive data.\n",
    "\n",
    "- Inheritance: Car and ElectricCar inherit from Vehicle, reusing code and specializing behavior through method overriding.\n",
    "\n",
    "- Polymorphism: The make_it_talk function works with any object that has a speak method (Dog, Cat, Robot), demonstrating interface-based interaction.\n",
    "\n",
    "- Abstraction: The Shape ABC defines a contract that forces all subclasses (Circle, Rectangle) to implement the calculate_area and calculate_perimeter methods, hiding the implementation details from the user."
   ]
  },
  {
   "cell_type": "markdown",
   "id": "71f6bc74",
   "metadata": {},
   "source": [
    "## Robotics OOP Exercise: Robot Factory\n",
    "**Scenario:** You're building a robot control system for a factory that has different types of robots with specialized functions.\n",
    "\n",
    "**Exercise Instructions:**\\\n",
    "Create a Python program that implements the following class structure:\n",
    "\n",
    "Base Robot Class - Robot\n",
    "\n",
    "- Attributes: name, battery_level, position\n",
    "\n",
    "- Methods: move(), charge(), get_status()\n",
    "\n",
    "Specialized Robot Classes that inherit from Robot:\n",
    "\n",
    "- WelderRobot - can weld and has weld_strength\n",
    "\n",
    "- PainterRobot - can paint and has paint_color\n",
    "\n",
    "- InspectorRobot - can inspect and has inspection_accuracy\n",
    "\n",
    "Expected Output:\n",
    "Your program should demonstrate:\n",
    "\n",
    "- Creating different types of robots\n",
    "\n",
    "- Each robot using its inherited methods\n",
    "\n",
    "- Each robot using its specialized methods\n",
    "\n",
    "- Polymorphism - treating different robots as generic robots"
   ]
  },
  {
   "cell_type": "code",
   "execution_count": 30,
   "id": "30bd9da7",
   "metadata": {},
   "outputs": [],
   "source": [
    "class Robot:\n",
    "    def __init__(self, name, battery_level=100):\n",
    "        self.name = name\n",
    "        self.battery_level = battery_level\n",
    "        self.position = [0, 0]  # x, y coordinates\n",
    "    \n",
    "    def move(self, x, y):\n",
    "        if self.battery_level >= 10:\n",
    "            self.position = [x, y]\n",
    "            self.battery_level -= 10\n",
    "            print(f\"{self.name} moved to position {self.position}\")\n",
    "        else:\n",
    "            print(f\"{self.name} needs charging!\")\n",
    "    \n",
    "    def charge(self):\n",
    "        self.battery_level = 100\n",
    "        print(f\"{self.name} is fully charged!\")\n",
    "    \n",
    "    def get_status(self):\n",
    "        return f\"{self.name} | Battery: {self.battery_level}% | Position: {self.position}\""
   ]
  },
  {
   "cell_type": "code",
   "execution_count": 31,
   "id": "1e40dff6",
   "metadata": {},
   "outputs": [],
   "source": [
    "class WelderRobot(Robot):\n",
    "    def __init__(self, name, weld_strength):\n",
    "        super().__init__(name)\n",
    "        self.weld_strength = weld_strength\n",
    "    \n",
    "    def weld(self, material):\n",
    "        if self.battery_level >= 15:\n",
    "            self.battery_level -= 15\n",
    "            print(f\"{self.name} is welding {material} with strength {self.weld_strength}\")\n",
    "        else:\n",
    "            print(f\"{self.name} needs charging to weld!\")"
   ]
  },
  {
   "cell_type": "code",
   "execution_count": 32,
   "id": "b179cbe9",
   "metadata": {},
   "outputs": [],
   "source": [
    "class PainterRobot(Robot):\n",
    "    def __init__(self, name, paint_color):\n",
    "        super().__init__(name)\n",
    "        self.paint_color = paint_color\n",
    "    \n",
    "    def paint(self, surface):\n",
    "        if self.battery_level >= 8:\n",
    "            self.battery_level -= 8\n",
    "            print(f\"{self.name} is painting {surface} with {self.paint_color} color\")\n",
    "        else:\n",
    "            print(f\"{self.name} needs charging to paint!\")"
   ]
  },
  {
   "cell_type": "code",
   "execution_count": 33,
   "id": "505e4b9a",
   "metadata": {},
   "outputs": [],
   "source": [
    "class InspectorRobot(Robot):\n",
    "    def __init__(self, name, inspection_accuracy):\n",
    "        super().__init__(name)\n",
    "        self.inspection_accuracy = inspection_accuracy\n",
    "    \n",
    "    def inspect(self, component):\n",
    "        if self.battery_level >= 5:\n",
    "            self.battery_level -= 5\n",
    "            print(f\"{self.name} is inspecting {component} with {self.inspection_accuracy}% accuracy\")\n",
    "        else:\n",
    "            print(f\"{self.name} needs charging to inspect!\")"
   ]
  },
  {
   "cell_type": "code",
   "execution_count": 34,
   "id": "6cc73032",
   "metadata": {},
   "outputs": [],
   "source": [
    "# Demonstration\n",
    "def factory_workday():\n",
    "    print(\"=== FACTORY WORKDAY STARTING ===\\n\")\n",
    "    \n",
    "    # Create different robots\n",
    "    welder_bot = WelderRobot(\"Weld-O-Matic\", weld_strength=95)\n",
    "    painter_bot = PainterRobot(\"Paint-Master\", paint_color=\"blue\")\n",
    "    inspector_bot = InspectorRobot(\"Quality-Bot\", inspection_accuracy=98)\n",
    "    \n",
    "    # Store all robots in a list (polymorphism)\n",
    "    robots = [welder_bot, painter_bot, inspector_bot]\n",
    "    \n",
    "    # Demonstrate each robot's capabilities\n",
    "    welder_bot.move(5, 3)\n",
    "    welder_bot.weld(\"steel beam\")\n",
    "    \n",
    "    painter_bot.move(2, 7)\n",
    "    painter_bot.paint(\"car door\")\n",
    "    \n",
    "    inspector_bot.move(8, 1)\n",
    "    inspector_bot.inspect(\"engine component\")\n",
    "    \n",
    "    # Show battery drain\n",
    "    print(\"\\n--- After some work ---\")\n",
    "    for robot in robots:\n",
    "        print(robot.get_status())\n",
    "    \n",
    "    # Demonstrate charging\n",
    "    print(\"\\n--- Charging time ---\")\n",
    "    welder_bot.charge()\n",
    "    print(welder_bot.get_status())\n",
    "    \n",
    "    # Show specialized attributes\n",
    "    print(f\"\\n--- Robot Specializations ---\")\n",
    "    print(f\"{welder_bot.name} has weld strength: {welder_bot.weld_strength}\")\n",
    "    print(f\"{painter_bot.name} uses color: {painter_bot.paint_color}\")\n",
    "    print(f\"{inspector_bot.name} has accuracy: {inspector_bot.inspection_accuracy}%\")"
   ]
  },
  {
   "cell_type": "code",
   "execution_count": 35,
   "id": "6a8249be",
   "metadata": {},
   "outputs": [
    {
     "name": "stdout",
     "output_type": "stream",
     "text": [
      "=== FACTORY WORKDAY STARTING ===\n",
      "\n",
      "Weld-O-Matic moved to position [5, 3]\n",
      "Weld-O-Matic is welding steel beam with strength 95\n",
      "Paint-Master moved to position [2, 7]\n",
      "Paint-Master is painting car door with blue color\n",
      "Quality-Bot moved to position [8, 1]\n",
      "Quality-Bot is inspecting engine component with 98% accuracy\n",
      "\n",
      "--- After some work ---\n",
      "Weld-O-Matic | Battery: 75% | Position: [5, 3]\n",
      "Paint-Master | Battery: 82% | Position: [2, 7]\n",
      "Quality-Bot | Battery: 85% | Position: [8, 1]\n",
      "\n",
      "--- Charging time ---\n",
      "Weld-O-Matic is fully charged!\n",
      "Weld-O-Matic | Battery: 100% | Position: [5, 3]\n",
      "\n",
      "--- Robot Specializations ---\n",
      "Weld-O-Matic has weld strength: 95\n",
      "Paint-Master uses color: blue\n",
      "Quality-Bot has accuracy: 98%\n"
     ]
    }
   ],
   "source": [
    "# Run the factory simulation\n",
    "factory_workday()"
   ]
  }
 ],
 "metadata": {
  "kernelspec": {
   "display_name": "Python 3",
   "language": "python",
   "name": "python3"
  },
  "language_info": {
   "codemirror_mode": {
    "name": "ipython",
    "version": 3
   },
   "file_extension": ".py",
   "mimetype": "text/x-python",
   "name": "python",
   "nbconvert_exporter": "python",
   "pygments_lexer": "ipython3",
   "version": "3.13.7"
  }
 },
 "nbformat": 4,
 "nbformat_minor": 5
}
