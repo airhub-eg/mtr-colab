{
 "cells": [
  {
   "cell_type": "markdown",
   "id": "0aa92576",
   "metadata": {},
   "source": [
    "![Logo](./assets/logo/AIRHUB-logo-2.png)\n",
    "# Session #01 Python Fundamentals\n",
    "This module ensures everyone has the same foundation.\\\n",
    "Prepared by: ***AIR-HUB Technical Team***\\\n",
    "*Copyright © 2025 AIRHUB*"
   ]
  },
  {
   "cell_type": "markdown",
   "id": "6520c5bf",
   "metadata": {},
   "source": [
    "## 1. Variables\n",
    "Variables are fundamental building blocks in Python programming."
   ]
  },
  {
   "cell_type": "markdown",
   "id": "f6a68043",
   "metadata": {},
   "source": [
    "### 1. What is a Variable?\n"
   ]
  },
  {
   "cell_type": "markdown",
   "id": "1686bcc1",
   "metadata": {},
   "source": [
    "A variable is a named reference to a value stored in memory. It acts as a container that holds data which can be accessed and manipulated throughout your program."
   ]
  },
  {
   "cell_type": "code",
   "execution_count": 1,
   "id": "67e65f74",
   "metadata": {},
   "outputs": [],
   "source": [
    "# Simple variable assignment\n",
    "name = \"Alice\"\n",
    "age = 30\n",
    "height = 5.8"
   ]
  },
  {
   "cell_type": "markdown",
   "id": "8e9efde4",
   "metadata": {},
   "source": [
    "### 2. Variable Naming Rules and Conventions"
   ]
  },
  {
   "cell_type": "markdown",
   "id": "5aa0b090",
   "metadata": {},
   "source": [
    "**Rules (must be followed):**\n",
    "- Must start with a letter (a-z, A-Z) or underscore (_)\n",
    "- Can contain letters, numbers, and underscores\n",
    "- Cannot be a Python keyword (if, for, while, etc.)\n",
    "- Case-sensitive (myVar ≠ myvar)\n",
    "\n",
    "**Conventions (should be followed):**\n",
    "- Use descriptive names\n",
    "- snake_case for variables and functions\n",
    "- PascalCase for classes\n",
    "- UPPER_CASE for constants"
   ]
  },
  {
   "cell_type": "code",
   "execution_count": 2,
   "id": "d988e56b",
   "metadata": {},
   "outputs": [],
   "source": [
    "# Good naming examples\n",
    "user_name = \"John\"\n",
    "total_count = 100\n",
    "MAX_CONNECTIONS = 5\n",
    "\n",
    "# Bad naming examples\n",
    "a = 10              # Not descriptive\n",
    "#2nd_name = \"Smith\"  # Starts with number\n",
    "#class = \"Math\"      # Uses keyword"
   ]
  },
  {
   "cell_type": "markdown",
   "id": "2a32d018",
   "metadata": {},
   "source": [
    "### 3. Variable Assignment\n",
    "Single Assignment"
   ]
  },
  {
   "cell_type": "code",
   "execution_count": 3,
   "id": "8ae595a0",
   "metadata": {},
   "outputs": [],
   "source": [
    "x = 10\n",
    "message = \"Hello, World!\""
   ]
  },
  {
   "cell_type": "markdown",
   "id": "2ddd2579",
   "metadata": {},
   "source": [
    "Multiple Assignment"
   ]
  },
  {
   "cell_type": "code",
   "execution_count": 7,
   "id": "f8036160",
   "metadata": {},
   "outputs": [],
   "source": [
    "# Assigning multiple variables in one line\n",
    "a, b, c = 1, 2, 3\n",
    "\n",
    "# Assigning same value to multiple variables\n",
    "x = y = z = 0"
   ]
  },
  {
   "cell_type": "markdown",
   "id": "ec2f7dbc",
   "metadata": {},
   "source": [
    "Swapping Variables"
   ]
  },
  {
   "cell_type": "code",
   "execution_count": 21,
   "id": "bc50f781",
   "metadata": {},
   "outputs": [
    {
     "name": "stdout",
     "output_type": "stream",
     "text": [
      "10\n",
      "5\n"
     ]
    }
   ],
   "source": [
    "a = 5\n",
    "b = 10\n",
    "a, b = b, a  # Swap values\n",
    "print(a)  # 10\n",
    "print(b)  # 5"
   ]
  },
  {
   "cell_type": "markdown",
   "id": "d0926ee7",
   "metadata": {},
   "source": [
    "### 4. Dynamic Typing\n",
    "Python uses dynamic typing, meaning variable types are determined at runtime and can change."
   ]
  },
  {
   "cell_type": "code",
   "execution_count": 20,
   "id": "3bf1cfea",
   "metadata": {},
   "outputs": [
    {
     "name": "stdout",
     "output_type": "stream",
     "text": [
      "<class 'int'>\n",
      "<class 'str'>\n",
      "<class 'list'>\n"
     ]
    }
   ],
   "source": [
    "# Variable can change type\n",
    "my_var = 10        # Integer\n",
    "print(type(my_var))  # <class 'int'>\n",
    "\n",
    "my_var = \"Hello\"   # String\n",
    "print(type(my_var))  # <class 'str'>\n",
    "\n",
    "my_var = [1, 2, 3] # List\n",
    "print(type(my_var))  # <class 'list'>"
   ]
  },
  {
   "cell_type": "markdown",
   "id": "c6b2f236",
   "metadata": {},
   "source": [
    "### 5. Data Types and Variables\n",
    "Basic Data Types"
   ]
  },
  {
   "cell_type": "code",
   "execution_count": 5,
   "id": "aa0e5463",
   "metadata": {},
   "outputs": [],
   "source": [
    "# Integer\n",
    "count = 10\n",
    "\n",
    "# Float\n",
    "price = 19.99\n",
    "\n",
    "# String\n",
    "name = \"Alice\"\n",
    "\n",
    "# Boolean\n",
    "is_active = True\n",
    "\n",
    "# NoneType\n",
    "result = None"
   ]
  },
  {
   "cell_type": "code",
   "execution_count": 6,
   "id": "37f9ed2b",
   "metadata": {},
   "outputs": [
    {
     "name": "stdout",
     "output_type": "stream",
     "text": [
      "<class 'int'>\n",
      "<class 'float'>\n",
      "<class 'str'>\n",
      "<class 'bool'>\n",
      "<class 'NoneType'>\n"
     ]
    }
   ],
   "source": [
    "print(type(count))\n",
    "print(type(price))\n",
    "print(type(name))\n",
    "print(type(is_active))\n",
    "print(type(result))"
   ]
  },
  {
   "cell_type": "markdown",
   "id": "d7c3a06d",
   "metadata": {},
   "source": [
    "Collection Types\n"
   ]
  },
  {
   "cell_type": "code",
   "execution_count": 23,
   "id": "3477a205",
   "metadata": {},
   "outputs": [],
   "source": [
    "# List (mutable, ordered)\n",
    "fruits = [\"apple\", \"banana\", \"orange\"]\n",
    "\n",
    "# Tuple (immutable, ordered)\n",
    "coordinates = (10, 20)\n",
    "\n",
    "# Dictionary (key-value pairs)\n",
    "person = {\"name\": \"John\", \"age\": 25}\n",
    "\n",
    "# Set (unordered, unique elements)\n",
    "unique_numbers = {1, 2, 3, 2, 1}  # Becomes {1, 2, 3}"
   ]
  },
  {
   "cell_type": "code",
   "execution_count": 25,
   "id": "9bdb60c2",
   "metadata": {},
   "outputs": [
    {
     "name": "stdout",
     "output_type": "stream",
     "text": [
      "<class 'list'>\n",
      "<class 'tuple'>\n",
      "<class 'dict'>\n",
      "<class 'set'>\n"
     ]
    }
   ],
   "source": [
    "print(type(fruits))\n",
    "print(type(coordinates))\n",
    "print(type(person))\n",
    "print(type(unique_numbers))"
   ]
  },
  {
   "cell_type": "markdown",
   "id": "ca649731",
   "metadata": {},
   "source": [
    "### 6. Variable Scope\n",
    "Local Scope"
   ]
  },
  {
   "cell_type": "code",
   "execution_count": 8,
   "id": "0fb8ede6",
   "metadata": {},
   "outputs": [
    {
     "name": "stdout",
     "output_type": "stream",
     "text": [
      "I'm local\n"
     ]
    }
   ],
   "source": [
    "def my_function():\n",
    "    local_var = \"I'm local\"  # Only accessible within this function\n",
    "    print(local_var)\n",
    "\n",
    "my_function()\n",
    "# print(local_var)  # This would cause an error"
   ]
  },
  {
   "cell_type": "markdown",
   "id": "299f564f",
   "metadata": {},
   "source": [
    "Global Scope"
   ]
  },
  {
   "cell_type": "code",
   "execution_count": 9,
   "id": "81a2bf79",
   "metadata": {},
   "outputs": [
    {
     "name": "stdout",
     "output_type": "stream",
     "text": [
      "I'm global\n",
      "I'm global\n"
     ]
    }
   ],
   "source": [
    "global_var = \"I'm global\"\n",
    "\n",
    "def my_function():\n",
    "    print(global_var)  # Accessible here\n",
    "\n",
    "my_function()\n",
    "print(global_var)  # Also accessible here"
   ]
  },
  {
   "cell_type": "markdown",
   "id": "90020df2",
   "metadata": {},
   "source": [
    "Modifying Global Variables"
   ]
  },
  {
   "cell_type": "code",
   "execution_count": null,
   "id": "5fc2651d",
   "metadata": {},
   "outputs": [],
   "source": [
    "counter = 0\n",
    "\n",
    "def increment():\n",
    "    global counter  # Need to declare as global to modify\n",
    "    counter += 1\n",
    "\n",
    "increment()\n",
    "print(counter)  # 1"
   ]
  },
  {
   "cell_type": "markdown",
   "id": "7ca4f369",
   "metadata": {},
   "source": [
    "Nonlocal Scope (for nested functions)"
   ]
  },
  {
   "cell_type": "code",
   "execution_count": null,
   "id": "9f0c04c0",
   "metadata": {},
   "outputs": [],
   "source": [
    "def outer_function():\n",
    "    outer_var = \"outer\"\n",
    "    \n",
    "    def inner_function():\n",
    "        nonlocal outer_var  # Refers to variable in enclosing function\n",
    "        outer_var = \"modified\"\n",
    "    \n",
    "    inner_function()\n",
    "    print(outer_var)  # \"modified\""
   ]
  },
  {
   "cell_type": "markdown",
   "id": "34ec9e5c",
   "metadata": {},
   "source": [
    "### 7. Memory Management and References\n",
    "Understanding References"
   ]
  },
  {
   "cell_type": "code",
   "execution_count": null,
   "id": "c2954a5e",
   "metadata": {},
   "outputs": [],
   "source": [
    "# Both variables point to the same list object\n",
    "list1 = [1, 2, 3]\n",
    "list2 = list1\n",
    "\n",
    "list2.append(4)\n",
    "print(list1)  # [1, 2, 3, 4] - Both variables see the change\n",
    "\n",
    "# Creating independent copies\n",
    "list3 = [1, 2, 3]\n",
    "list4 = list3.copy()  # or list3[:]\n",
    "list4.append(4)\n",
    "print(list3)  # [1, 2, 3] - Original unchanged"
   ]
  },
  {
   "cell_type": "markdown",
   "id": "e370b04b",
   "metadata": {},
   "source": [
    "Identity and Equality"
   ]
  },
  {
   "cell_type": "code",
   "execution_count": 28,
   "id": "a81a225e",
   "metadata": {},
   "outputs": [
    {
     "name": "stdout",
     "output_type": "stream",
     "text": [
      "True\n",
      "False\n",
      "True\n",
      "2234954741824\n",
      "2234954739264\n",
      "2234954741824\n"
     ]
    }
   ],
   "source": [
    "a = [1, 2, 3]\n",
    "b = [1, 2, 3]\n",
    "c = a\n",
    "\n",
    "print(a == b)  # True - Same content\n",
    "print(a is b)  # False - Different objects\n",
    "print(a is c)  # True - Same object\n",
    "\n",
    "print(id(a))   # Memory address of a\n",
    "print(id(b))   # Different memory address\n",
    "print(id(c))   # Same as a's memory address"
   ]
  },
  {
   "cell_type": "markdown",
   "id": "38ea159a",
   "metadata": {},
   "source": [
    "### 8. Variable Deletion"
   ]
  },
  {
   "cell_type": "code",
   "execution_count": 27,
   "id": "09d5d62f",
   "metadata": {},
   "outputs": [
    {
     "name": "stdout",
     "output_type": "stream",
     "text": [
      "10\n"
     ]
    }
   ],
   "source": [
    "x = 10\n",
    "print(x)  # 10\n",
    "\n",
    "del x     # Delete the variable\n",
    "# print(x)  # This would cause a NameError"
   ]
  },
  {
   "cell_type": "markdown",
   "id": "5e220d8d",
   "metadata": {},
   "source": [
    "## 2. Mathematical Operations\n",
    "Python provides a rich set of mathematical operations and functions through built-in operators."
   ]
  },
  {
   "cell_type": "markdown",
   "id": "1f2a98f7",
   "metadata": {},
   "source": [
    "### 1. Basic Arithmetic Operations"
   ]
  },
  {
   "cell_type": "markdown",
   "id": "c9655487",
   "metadata": {},
   "source": [
    "Fundamental Operators"
   ]
  },
  {
   "cell_type": "code",
   "execution_count": 29,
   "id": "c6a15b2a",
   "metadata": {},
   "outputs": [],
   "source": [
    "# Addition\n",
    "a = 10 + 5      # 15\n",
    "b = 7.5 + 2.3   # 9.8\n",
    "\n",
    "# Subtraction\n",
    "c = 15 - 7      # 8\n",
    "d = 10.5 - 3.2  # 7.3\n",
    "\n",
    "# Multiplication\n",
    "e = 6 * 7       # 42\n",
    "f = 2.5 * 4     # 10.0\n",
    "\n",
    "# Division (always returns float)\n",
    "g = 15 / 3      # 5.0\n",
    "h = 10 / 3      # 3.3333333333333335\n",
    "\n",
    "# Floor Division (integer division)\n",
    "i = 15 // 3     # 5\n",
    "j = 10 // 3     # 3\n",
    "k = -10 // 3    # -4 (rounds toward negative infinity)\n",
    "\n",
    "# Modulus (remainder)\n",
    "l = 10 % 3      # 1\n",
    "m = 15 % 4      # 3\n",
    "\n",
    "# Exponentiation\n",
    "n = 2 ** 3      # 8\n",
    "o = 3 ** 4      # 81\n",
    "p = 16 ** 0.5   # 4.0 (square root)"
   ]
  },
  {
   "cell_type": "markdown",
   "id": "c715eee7",
   "metadata": {},
   "source": [
    "Operator Precedence"
   ]
  },
  {
   "cell_type": "code",
   "execution_count": 30,
   "id": "0cd08f84",
   "metadata": {},
   "outputs": [],
   "source": [
    "# PEMDAS: Parentheses, Exponents, Multiplication/Division, Addition/Subtraction\n",
    "result1 = 2 + 3 * 4        # 14 (not 20)\n",
    "result2 = (2 + 3) * 4      # 20\n",
    "result3 = 2 ** 3 * 4       # 32 (exponents before multiplication)\n",
    "result4 = 10 - 3 + 2       # 9 (left to right for same precedence)"
   ]
  },
  {
   "cell_type": "markdown",
   "id": "facf1812",
   "metadata": {},
   "source": [
    "### 2. Advanced Mathematical Operators"
   ]
  },
  {
   "cell_type": "markdown",
   "id": "c30aa0d5",
   "metadata": {},
   "source": [
    "Bitwise Operators"
   ]
  },
  {
   "cell_type": "code",
   "execution_count": null,
   "id": "a43dedd6",
   "metadata": {},
   "outputs": [],
   "source": [
    "# Bitwise AND\n",
    "a = 5 & 3       # 1 (0101 & 0011 = 0001)\n",
    "\n",
    "# Bitwise OR\n",
    "b = 5 | 3       # 7 (0101 | 0011 = 0111)\n",
    "\n",
    "# Bitwise XOR\n",
    "c = 5 ^ 3       # 6 (0101 ^ 0011 = 0110)\n",
    "\n",
    "# Bitwise NOT\n",
    "d = ~5          # -6 (inverts all bits)\n",
    "\n",
    "# Left Shift\n",
    "e = 5 << 1      # 10 (0101 << 1 = 1010)\n",
    "\n",
    "# Right Shift\n",
    "f = 5 >> 1      # 2 (0101 >> 1 = 0010)"
   ]
  },
  {
   "cell_type": "markdown",
   "id": "16142aab",
   "metadata": {},
   "source": [
    "Assignment Operators"
   ]
  },
  {
   "cell_type": "code",
   "execution_count": null,
   "id": "ac0da18b",
   "metadata": {},
   "outputs": [],
   "source": [
    "x = 10\n",
    "x += 5      # x = x + 5 → 15\n",
    "x -= 3      # x = x - 3 → 12\n",
    "x *= 2      # x = x * 2 → 24\n",
    "x /= 4      # x = x / 4 → 6.0\n",
    "x //= 2     # x = x // 2 → 3.0\n",
    "x **= 3     # x = x ** 3 → 27.0\n",
    "x %= 5      # x = x % 5 → 2.0"
   ]
  },
  {
   "cell_type": "markdown",
   "id": "f030e19b",
   "metadata": {},
   "source": [
    "## 3. Control Flow\n",
    "Control flow is fundamental to programming, allowing you to make decisions and repeat actions."
   ]
  },
  {
   "cell_type": "markdown",
   "id": "57937191",
   "metadata": {},
   "source": [
    "### 1. Conditional Statements (if, elif, else)"
   ]
  },
  {
   "cell_type": "markdown",
   "id": "75224735",
   "metadata": {},
   "source": [
    "Basic if Statement"
   ]
  },
  {
   "cell_type": "code",
   "execution_count": null,
   "id": "6226ba30",
   "metadata": {},
   "outputs": [],
   "source": [
    "# Simple condition\n",
    "age = 18\n",
    "if age >= 18:\n",
    "    print(\"You are an adult\")\n",
    "\n",
    "# Multiple statements in block\n",
    "temperature = 25\n",
    "if temperature > 30:\n",
    "    print(\"It's hot outside\")\n",
    "    print(\"Stay hydrated!\")\n"
   ]
  },
  {
   "cell_type": "markdown",
   "id": "88c14e02",
   "metadata": {},
   "source": [
    "if-else Statement"
   ]
  },
  {
   "cell_type": "code",
   "execution_count": null,
   "id": "ee959aa8",
   "metadata": {},
   "outputs": [],
   "source": [
    "# Basic if-else\n",
    "age = 16\n",
    "if age >= 18:\n",
    "    print(\"You can vote\")\n",
    "else:\n",
    "    print(\"You cannot vote yet\")\n",
    "\n",
    "# Nested if-else\n",
    "score = 85\n",
    "if score >= 90:\n",
    "    grade = \"A\"\n",
    "else:\n",
    "    if score >= 80:\n",
    "        grade = \"B\"\n",
    "    else:\n",
    "        grade = \"C\"\n",
    "print(f\"Grade: {grade}\")"
   ]
  },
  {
   "cell_type": "markdown",
   "id": "bf24fdce",
   "metadata": {},
   "source": [
    "if-elif-else Ladder"
   ]
  },
  {
   "cell_type": "code",
   "execution_count": null,
   "id": "fc88924a",
   "metadata": {},
   "outputs": [],
   "source": [
    "# Multiple conditions\n",
    "score = 87\n",
    "\n",
    "if score >= 90:\n",
    "    grade = \"A\"\n",
    "elif score >= 80:\n",
    "    grade = \"B\"\n",
    "elif score >= 70:\n",
    "    grade = \"C\"\n",
    "elif score >= 60:\n",
    "    grade = \"D\"\n",
    "else:\n",
    "    grade = \"F\"\n",
    "\n",
    "print(f\"Score: {score}, Grade: {grade}\")"
   ]
  },
  {
   "cell_type": "markdown",
   "id": "ecf47027",
   "metadata": {},
   "source": [
    "Complex Conditions with Logical Operators"
   ]
  },
  {
   "cell_type": "code",
   "execution_count": null,
   "id": "e096b516",
   "metadata": {},
   "outputs": [],
   "source": [
    "# Using and, or, not\n",
    "age = 25\n",
    "has_license = True\n",
    "\n",
    "if age >= 18 and has_license:\n",
    "    print(\"You can drive legally\")\n",
    "\n",
    "# Complex conditions\n",
    "temperature = 22\n",
    "is_weekend = True\n",
    "is_sunny = True\n",
    "\n",
    "if (temperature > 20 and is_sunny) or is_weekend:\n",
    "    print(\"Great weather for outdoor activities!\")\n",
    "\n",
    "# Using not operator\n",
    "is_raining = False\n",
    "if not is_raining:\n",
    "    print(\"No need for an umbrella\")"
   ]
  },
  {
   "cell_type": "markdown",
   "id": "c4e8c2de",
   "metadata": {},
   "source": [
    "Conditional Expressions (Ternary Operator)"
   ]
  },
  {
   "cell_type": "code",
   "execution_count": null,
   "id": "fda33b66",
   "metadata": {},
   "outputs": [],
   "source": [
    "# Traditional if-else\n",
    "age = 20\n",
    "if age >= 18:\n",
    "    status = \"adult\"\n",
    "else:\n",
    "    status = \"minor\"\n",
    "\n",
    "# Ternary operator equivalent\n",
    "status = \"adult\" if age >= 18 else \"minor\"\n",
    "\n",
    "# More complex examples\n",
    "score = 85\n",
    "result = \"Pass\" if score >= 60 else \"Fail\"\n",
    "discount = 0.2 if score >= 90 else 0.1 if score >= 80 else 0"
   ]
  },
  {
   "cell_type": "markdown",
   "id": "32543bdc",
   "metadata": {},
   "source": [
    "### 2. Loops in Python"
   ]
  },
  {
   "cell_type": "markdown",
   "id": "58eae10e",
   "metadata": {},
   "source": [
    "#### While Loops"
   ]
  },
  {
   "cell_type": "markdown",
   "id": "fff5898a",
   "metadata": {},
   "source": [
    "Basic While Loop"
   ]
  },
  {
   "cell_type": "code",
   "execution_count": null,
   "id": "53969163",
   "metadata": {},
   "outputs": [],
   "source": [
    "# Simple counter\n",
    "count = 1\n",
    "while count <= 5:\n",
    "    print(f\"Count: {count}\")\n",
    "    count += 1\n",
    "\n",
    "# User input validation\n",
    "password = \"\"\n",
    "while password != \"secret\":\n",
    "    password = input(\"Enter password: \")\n",
    "print(\"Access granted!\")"
   ]
  },
  {
   "cell_type": "markdown",
   "id": "eab7074e",
   "metadata": {},
   "source": [
    "While-Else Construct"
   ]
  },
  {
   "cell_type": "code",
   "execution_count": null,
   "id": "ca18a8c9",
   "metadata": {},
   "outputs": [],
   "source": [
    "# While-else example\n",
    "count = 1\n",
    "while count <= 3:\n",
    "    print(f\"Attempt {count}\")\n",
    "    if input(\"Success? (y/n): \") == 'y':\n",
    "        print(\"Operation successful!\")\n",
    "        break\n",
    "    count += 1\n",
    "else:\n",
    "    print(\"All attempts failed!\")"
   ]
  },
  {
   "cell_type": "markdown",
   "id": "d505fff7",
   "metadata": {},
   "source": [
    "Infinite Loops with Break"
   ]
  },
  {
   "cell_type": "code",
   "execution_count": null,
   "id": "93ca0ddf",
   "metadata": {},
   "outputs": [],
   "source": [
    "# Menu system\n",
    "while True:\n",
    "    print(\"\\n1. View items\")\n",
    "    print(\"2. Add item\")\n",
    "    print(\"3. Exit\")\n",
    "    \n",
    "    choice = input(\"Enter choice: \")\n",
    "    \n",
    "    if choice == '1':\n",
    "        print(\"Viewing items...\")\n",
    "    elif choice == '2':\n",
    "        print(\"Adding item...\")\n",
    "    elif choice == '3':\n",
    "        print(\"Goodbye!\")\n",
    "        break\n",
    "    else:\n",
    "        print(\"Invalid choice!\")\n"
   ]
  },
  {
   "cell_type": "markdown",
   "id": "7c7b7450",
   "metadata": {},
   "source": [
    "#### For Loops"
   ]
  },
  {
   "cell_type": "markdown",
   "id": "9a37b2a3",
   "metadata": {},
   "source": [
    "Basic For Loop with Range"
   ]
  },
  {
   "cell_type": "code",
   "execution_count": null,
   "id": "96691b9a",
   "metadata": {},
   "outputs": [],
   "source": [
    "# Basic range\n",
    "for i in range(5):\n",
    "    print(i)  # 0, 1, 2, 3, 4\n",
    "\n",
    "# Range with start and end\n",
    "for i in range(2, 6):\n",
    "    print(i)  # 2, 3, 4, 5\n",
    "\n",
    "# Range with step\n",
    "for i in range(0, 10, 2):\n",
    "    print(i)  # 0, 2, 4, 6, 8\n",
    "\n",
    "# Reverse range\n",
    "for i in range(5, 0, -1):\n",
    "    print(i)  # 5, 4, 3, 2, 1"
   ]
  },
  {
   "cell_type": "markdown",
   "id": "1572f407",
   "metadata": {},
   "source": [
    "Iterating Over Sequences"
   ]
  },
  {
   "cell_type": "code",
   "execution_count": null,
   "id": "cfac491e",
   "metadata": {},
   "outputs": [],
   "source": [
    "# List iteration\n",
    "fruits = [\"apple\", \"banana\", \"cherry\"]\n",
    "for fruit in fruits:\n",
    "    print(fruit)\n",
    "\n",
    "# String iteration\n",
    "message = \"Hello\"\n",
    "for char in message:\n",
    "    print(char)\n",
    "\n",
    "# Tuple iteration\n",
    "coordinates = (1, 2), (3, 4), (5, 6)\n",
    "for x, y in coordinates:\n",
    "    print(f\"X: {x}, Y: {y}\")"
   ]
  },
  {
   "cell_type": "markdown",
   "id": "75f2b3e5",
   "metadata": {},
   "source": [
    "Dictionary Iteration"
   ]
  },
  {
   "cell_type": "code",
   "execution_count": null,
   "id": "5f29c821",
   "metadata": {},
   "outputs": [],
   "source": [
    "person = {\"name\": \"Alice\", \"age\": 30, \"city\": \"New York\"}\n",
    "\n",
    "# Iterate keys\n",
    "for key in person:\n",
    "    print(key)\n",
    "\n",
    "# Iterate keys explicitly\n",
    "for key in person.keys():\n",
    "    print(key)\n",
    "\n",
    "# Iterate values\n",
    "for value in person.values():\n",
    "    print(value)\n",
    "\n",
    "# Iterate key-value pairs\n",
    "for key, value in person.items():\n",
    "    print(f\"{key}: {value}\")"
   ]
  },
  {
   "cell_type": "markdown",
   "id": "e75b3fa6",
   "metadata": {},
   "source": [
    "Enumerate Function"
   ]
  },
  {
   "cell_type": "code",
   "execution_count": null,
   "id": "c705b48e",
   "metadata": {},
   "outputs": [],
   "source": [
    "# Get index and value\n",
    "fruits = [\"apple\", \"banana\", \"cherry\"]\n",
    "for index, fruit in enumerate(fruits):\n",
    "    print(f\"{index}: {fruit}\")\n",
    "\n",
    "# Start index from specific number\n",
    "for index, fruit in enumerate(fruits, start=1):\n",
    "    print(f\"{index}: {fruit}\")"
   ]
  },
  {
   "cell_type": "markdown",
   "id": "be1f9b5a",
   "metadata": {},
   "source": [
    "Zip Function"
   ]
  },
  {
   "cell_type": "code",
   "execution_count": 1,
   "id": "a4943637",
   "metadata": {},
   "outputs": [
    {
     "name": "stdout",
     "output_type": "stream",
     "text": [
      "Alice is 25 years old and lives in NY\n",
      "Bob is 30 years old and lives in LA\n",
      "Charlie is 35 years old and lives in Chicago\n"
     ]
    }
   ],
   "source": [
    "# Iterate multiple sequences simultaneously\n",
    "names = [\"Alice\", \"Bob\", \"Charlie\"]\n",
    "ages = [25, 30, 35]\n",
    "cities = [\"NY\", \"LA\", \"Chicago\"]\n",
    "\n",
    "for name, age, city in zip(names, ages, cities):\n",
    "    print(f\"{name} is {age} years old and lives in {city}\")"
   ]
  },
  {
   "cell_type": "markdown",
   "id": "453f4f22",
   "metadata": {},
   "source": [
    "For-Else Construct"
   ]
  },
  {
   "cell_type": "code",
   "execution_count": null,
   "id": "888fa96d",
   "metadata": {},
   "outputs": [],
   "source": [
    "# For-else example\n",
    "numbers = [1, 3, 5, 7, 9]\n",
    "search_for = 4\n",
    "\n",
    "for num in numbers:\n",
    "    if num == search_for:\n",
    "        print(f\"Found {search_for}!\")\n",
    "        break\n",
    "else:\n",
    "    print(f\"{search_for} not found in list\")"
   ]
  },
  {
   "cell_type": "markdown",
   "id": "2f51c5f5",
   "metadata": {},
   "source": [
    "### 3. Loop Control Statements"
   ]
  },
  {
   "cell_type": "markdown",
   "id": "f04b563e",
   "metadata": {},
   "source": [
    "Break Statement"
   ]
  },
  {
   "cell_type": "code",
   "execution_count": null,
   "id": "084f9562",
   "metadata": {},
   "outputs": [],
   "source": [
    "# Break out of loop\n",
    "for i in range(10):\n",
    "    if i == 5:\n",
    "        break\n",
    "    print(i)  # 0, 1, 2, 3, 4\n",
    "\n",
    "# Break in nested loops\n",
    "for i in range(3):\n",
    "    for j in range(3):\n",
    "        if i == j == 1:\n",
    "            print(\"Breaking inner loop\")\n",
    "            break\n",
    "        print(f\"i={i}, j={j}\")"
   ]
  },
  {
   "cell_type": "markdown",
   "id": "1f91906f",
   "metadata": {},
   "source": [
    "Continue Statement"
   ]
  },
  {
   "cell_type": "code",
   "execution_count": null,
   "id": "2ad723a7",
   "metadata": {},
   "outputs": [],
   "source": [
    "# Skip even numbers\n",
    "for i in range(10):\n",
    "    if i % 2 == 0:\n",
    "        continue\n",
    "    print(i)  # 1, 3, 5, 7, 9\n",
    "\n",
    "# Skip specific elements\n",
    "fruits = [\"apple\", \"banana\", \"cherry\", \"date\"]\n",
    "for fruit in fruits:\n",
    "    if fruit.startswith('b'):\n",
    "        continue\n",
    "    print(fruit)  # apple, cherry, date"
   ]
  },
  {
   "cell_type": "markdown",
   "id": "c04c1cab",
   "metadata": {},
   "source": [
    "Pass Statement"
   ]
  },
  {
   "cell_type": "code",
   "execution_count": null,
   "id": "45e516c4",
   "metadata": {},
   "outputs": [],
   "source": [
    "# Placeholder for future code\n",
    "for i in range(5):\n",
    "    if i == 2:\n",
    "        pass  # TODO: Implement special case\n",
    "    print(i)\n",
    "\n",
    "# Empty function or class\n",
    "def future_function():\n",
    "    pass  # To be implemented later\n",
    "\n",
    "class FutureClass:\n",
    "    pass  # To be implemented later"
   ]
  },
  {
   "cell_type": "markdown",
   "id": "cadb03b8",
   "metadata": {},
   "source": [
    "### 4. Nested Control Structures"
   ]
  },
  {
   "cell_type": "markdown",
   "id": "388fafb7",
   "metadata": {},
   "source": [
    "Nested If Statements"
   ]
  },
  {
   "cell_type": "code",
   "execution_count": null,
   "id": "a026cd7d",
   "metadata": {},
   "outputs": [],
   "source": [
    "# Complex decision making\n",
    "age = 25\n",
    "has_license = True\n",
    "has_car = False\n",
    "\n",
    "if age >= 18:\n",
    "    if has_license:\n",
    "        if has_car:\n",
    "            print(\"You can drive your car\")\n",
    "        else:\n",
    "            print(\"You can drive, but you need a car\")\n",
    "    else:\n",
    "        print(\"You need a driver's license\")\n",
    "else:\n",
    "    print(\"You're too young to drive\")"
   ]
  },
  {
   "cell_type": "markdown",
   "id": "1346cd57",
   "metadata": {},
   "source": [
    "Nested Loops"
   ]
  },
  {
   "cell_type": "code",
   "execution_count": null,
   "id": "9d7cd071",
   "metadata": {},
   "outputs": [],
   "source": [
    "# Multiplication table\n",
    "print(\"Multiplication Table:\")\n",
    "for i in range(1, 6):\n",
    "    for j in range(1, 6):\n",
    "        print(f\"{i} × {j} = {i*j}\", end=\"\\t\")\n",
    "    print()  # New line after each row\n",
    "\n",
    "# Pattern printing\n",
    "print(\"\\nPattern:\")\n",
    "for i in range(5):\n",
    "    for j in range(i + 1):\n",
    "        print(\"*\", end=\"\")\n",
    "    print()"
   ]
  },
  {
   "cell_type": "markdown",
   "id": "4a25782c",
   "metadata": {},
   "source": [
    "### 5. Advanced Loop Techniques"
   ]
  },
  {
   "cell_type": "markdown",
   "id": "fa436e77",
   "metadata": {},
   "source": [
    "List Comprehensions with Conditions"
   ]
  },
  {
   "cell_type": "code",
   "execution_count": null,
   "id": "ddf6f44a",
   "metadata": {},
   "outputs": [],
   "source": [
    "# Traditional approach\n",
    "squares = []\n",
    "for i in range(10):\n",
    "    if i % 2 == 0:  # Only even numbers\n",
    "        squares.append(i ** 2)\n",
    "\n",
    "# List comprehension equivalent\n",
    "squares = [i ** 2 for i in range(10) if i % 2 == 0]\n",
    "\n",
    "# More complex example\n",
    "numbers = [1, 2, 3, 4, 5, 6, 7, 8, 9, 10]\n",
    "even_squares = [x ** 2 for x in numbers if x % 2 == 0]\n",
    "odd_cubes = [x ** 3 for x in numbers if x % 2 != 0]"
   ]
  },
  {
   "cell_type": "markdown",
   "id": "0c1eada0",
   "metadata": {},
   "source": [
    "Generator Expressions"
   ]
  },
  {
   "cell_type": "code",
   "execution_count": null,
   "id": "a22f701c",
   "metadata": {},
   "outputs": [],
   "source": [
    "# Memory-efficient iteration\n",
    "large_data = (x ** 2 for x in range(1000000) if x % 2 == 0)\n",
    "\n",
    "for value in large_data:\n",
    "    if value > 100:\n",
    "        break\n",
    "    print(value)"
   ]
  },
  {
   "cell_type": "markdown",
   "id": "140c2e04",
   "metadata": {},
   "source": [
    "Using itertools for Advanced Looping"
   ]
  },
  {
   "cell_type": "code",
   "execution_count": null,
   "id": "20654c65",
   "metadata": {},
   "outputs": [],
   "source": [
    "import itertools\n",
    "\n",
    "# Infinite loops\n",
    "counter = itertools.count(1)\n",
    "for i in counter:\n",
    "    if i > 5:\n",
    "        break\n",
    "    print(i)\n",
    "\n",
    "# Cycle through elements\n",
    "colors = [\"red\", \"green\", \"blue\"]\n",
    "color_cycle = itertools.cycle(colors)\n",
    "for i in range(6):\n",
    "    print(next(color_cycle))\n",
    "\n",
    "# Combinations and permutations\n",
    "letters = ['A', 'B', 'C']\n",
    "print(\"Combinations:\")\n",
    "for combo in itertools.combinations(letters, 2):\n",
    "    print(combo)\n",
    "\n",
    "print(\"Permutations:\")\n",
    "for perm in itertools.permutations(letters, 2):\n",
    "    print(perm)"
   ]
  },
  {
   "cell_type": "markdown",
   "id": "ebccb984",
   "metadata": {},
   "source": [
    "## 4. Core Data Structure\n",
    "Python's core data structures are powerful, flexible, and essential for effective programming."
   ]
  },
  {
   "cell_type": "markdown",
   "id": "f406d23e",
   "metadata": {},
   "source": [
    "### 1. Lists - Mutable Ordered Sequences"
   ]
  },
  {
   "cell_type": "markdown",
   "id": "704011b5",
   "metadata": {},
   "source": [
    "Creation and Basic Operations"
   ]
  },
  {
   "cell_type": "code",
   "execution_count": null,
   "id": "545a954d",
   "metadata": {},
   "outputs": [],
   "source": [
    "# Different ways to create lists\n",
    "empty_list = []\n",
    "numbers = [1, 2, 3, 4, 5]\n",
    "mixed = [1, \"hello\", 3.14, True]\n",
    "nested = [[1, 2], [3, 4], [5, 6]]\n",
    "from_range = list(range(5))  # [0, 1, 2, 3, 4]\n",
    "from_string = list(\"hello\")  # ['h', 'e', 'l', 'l', 'o']\n",
    "\n",
    "# List constructor\n",
    "constructed = list((1, 2, 3))  # [1, 2, 3]"
   ]
  },
  {
   "cell_type": "markdown",
   "id": "008e0f30",
   "metadata": {},
   "source": [
    "Accessing and Modifying Elements"
   ]
  },
  {
   "cell_type": "code",
   "execution_count": null,
   "id": "fcf27a49",
   "metadata": {},
   "outputs": [],
   "source": [
    "fruits = [\"apple\", \"banana\", \"cherry\", \"date\", \"elderberry\"]\n",
    "\n",
    "# Indexing (zero-based)\n",
    "print(fruits[0])     # \"apple\" - first element\n",
    "print(fruits[-1])    # \"elderberry\" - last element\n",
    "print(fruits[2])     # \"cherry\" - third element\n",
    "\n",
    "# Slicing [start:stop:step]\n",
    "print(fruits[1:4])   # [\"banana\", \"cherry\", \"date\"]\n",
    "print(fruits[:3])    # [\"apple\", \"banana\", \"cherry\"]\n",
    "print(fruits[2:])    # [\"cherry\", \"date\", \"elderberry\"]\n",
    "print(fruits[::2])   # [\"apple\", \"cherry\", \"elderberry\"] - every other\n",
    "print(fruits[::-1])  # Reverse the list\n",
    "\n",
    "# Modifying elements\n",
    "fruits[1] = \"blueberry\"  # Replace second element\n",
    "fruits[1:3] = [\"blackberry\", \"cranberry\"]  # Replace slice"
   ]
  },
  {
   "cell_type": "markdown",
   "id": "6bd7aae6",
   "metadata": {},
   "source": [
    "List Methods and Operations"
   ]
  },
  {
   "cell_type": "code",
   "execution_count": null,
   "id": "d32a3fa3",
   "metadata": {},
   "outputs": [],
   "source": [
    "# Adding elements\n",
    "numbers = [1, 2, 3]\n",
    "numbers.append(4)           # [1, 2, 3, 4]\n",
    "numbers.insert(1, 1.5)      # [1, 1.5, 2, 3, 4] - insert at index\n",
    "numbers.extend([5, 6])      # [1, 1.5, 2, 3, 4, 5, 6] - add multiple\n",
    "\n",
    "# Removing elements\n",
    "numbers.remove(1.5)         # Remove first occurrence of value\n",
    "popped = numbers.pop()      # Remove and return last element (6)\n",
    "popped2 = numbers.pop(1)    # Remove and return element at index (2)\n",
    "del numbers[0]              # Delete element at index\n",
    "numbers.clear()             # Empty the list\n",
    "\n",
    "# Searching and information\n",
    "fruits = [\"apple\", \"banana\", \"cherry\", \"apple\"]\n",
    "print(fruits.index(\"banana\"))    # 1 - find index of value\n",
    "print(fruits.count(\"apple\"))     # 2 - count occurrences\n",
    "print(\"cherry\" in fruits)        # True - membership test\n",
    "\n",
    "# Sorting and rearranging\n",
    "numbers = [3, 1, 4, 1, 5, 9, 2]\n",
    "numbers.sort()              # [1, 1, 2, 3, 4, 5, 9] - in-place sort\n",
    "numbers.sort(reverse=True)  # [9, 5, 4, 3, 2, 1, 1]\n",
    "sorted_numbers = sorted(numbers)  # New sorted list\n",
    "\n",
    "fruits.reverse()            # Reverse in-place\n",
    "reversed_fruits = list(reversed(fruits))  # New reversed list"
   ]
  },
  {
   "cell_type": "markdown",
   "id": "9b4b1198",
   "metadata": {},
   "source": [
    "List Comprehensions and Advanced Operations"
   ]
  },
  {
   "cell_type": "code",
   "execution_count": null,
   "id": "35507599",
   "metadata": {},
   "outputs": [],
   "source": [
    "# Basic list comprehension\n",
    "squares = [x**2 for x in range(10)]  # [0, 1, 4, 9, 16, 25, 36, 49, 64, 81]\n",
    "\n",
    "# With condition\n",
    "even_squares = [x**2 for x in range(10) if x % 2 == 0]\n",
    "\n",
    "# Nested comprehension\n",
    "matrix = [[1, 2, 3], [4, 5, 6], [7, 8, 9]]\n",
    "flattened = [num for row in matrix for num in row]  # [1, 2, 3, 4, 5, 6, 7, 8, 9]\n",
    "\n",
    "# Using enumerate for index-value pairs\n",
    "fruits = [\"apple\", \"banana\", \"cherry\"]\n",
    "for index, fruit in enumerate(fruits):\n",
    "    print(f\"{index}: {fruit}\")\n",
    "\n",
    "# Using zip to combine lists\n",
    "names = [\"Alice\", \"Bob\", \"Charlie\"]\n",
    "ages = [25, 30, 35]\n",
    "combined = list(zip(names, ages))  # [('Alice', 25), ('Bob', 30), ('Charlie', 35)]"
   ]
  },
  {
   "cell_type": "markdown",
   "id": "67cca55a",
   "metadata": {},
   "source": [
    "Memory and Performance Considerations"
   ]
  },
  {
   "cell_type": "code",
   "execution_count": null,
   "id": "130aedd9",
   "metadata": {},
   "outputs": [],
   "source": [
    "import sys\n",
    "\n",
    "# Memory usage\n",
    "small_list = [1, 2, 3]\n",
    "large_list = list(range(1000))\n",
    "print(sys.getsizeof(small_list))  # Memory size in bytes\n",
    "print(sys.getsizeof(large_list))\n",
    "\n",
    "# Time complexity examples\n",
    "# O(1) - indexing, appending, popping from end\n",
    "# O(n) - searching, inserting/deleting from beginning"
   ]
  },
  {
   "cell_type": "markdown",
   "id": "613b8fe7",
   "metadata": {},
   "source": [
    "### 2. Tuples - Immutable Ordered Sequences"
   ]
  },
  {
   "cell_type": "markdown",
   "id": "1e385433",
   "metadata": {},
   "source": [
    "Creation and Basic Characteristics"
   ]
  },
  {
   "cell_type": "code",
   "execution_count": null,
   "id": "4b986c2e",
   "metadata": {},
   "outputs": [],
   "source": [
    "# Different ways to create tuples\n",
    "empty_tuple = ()\n",
    "single_item = (42,)          # Note the comma - required!\n",
    "multiple_items = (1, 2, 3)\n",
    "mixed = (1, \"hello\", 3.14)\n",
    "nested = ((1, 2), (3, 4))\n",
    "\n",
    "# Without parentheses (tuple packing)\n",
    "packed = 1, 2, 3            # (1, 2, 3)\n",
    "\n",
    "# Tuple constructor\n",
    "constructed = tuple([1, 2, 3])  # (1, 2, 3)\n",
    "from_string = tuple(\"hello\")    # ('h', 'e', 'l', 'l', 'o')"
   ]
  },
  {
   "cell_type": "markdown",
   "id": "f4e170ff",
   "metadata": {},
   "source": [
    "Operations and Methods"
   ]
  },
  {
   "cell_type": "code",
   "execution_count": null,
   "id": "6bcf9701",
   "metadata": {},
   "outputs": [],
   "source": [
    "coordinates = (10, 20, 30)\n",
    "\n",
    "# Accessing elements (same as lists)\n",
    "print(coordinates[0])        # 10\n",
    "print(coordinates[-1])       # 30\n",
    "print(coordinates[1:])       # (20, 30)\n",
    "\n",
    "# Immutable - cannot modify\n",
    "# coordinates[0] = 100       # TypeError!\n",
    "\n",
    "# Tuple methods\n",
    "fruits = (\"apple\", \"banana\", \"cherry\", \"apple\")\n",
    "print(fruits.index(\"banana\"))    # 1\n",
    "print(fruits.count(\"apple\"))     # 2\n",
    "print(\"cherry\" in fruits)        # True\n",
    "\n",
    "# Tuple unpacking\n",
    "x, y, z = coordinates        # x=10, y=20, z=30\n",
    "a, b, *rest = 1, 2, 3, 4, 5  # a=1, b=2, rest=[3, 4, 5]\n",
    "\n",
    "# Swapping variables\n",
    "a, b = 5, 10\n",
    "a, b = b, a                  # a=10, b=5"
   ]
  },
  {
   "cell_type": "markdown",
   "id": "244cafb6",
   "metadata": {},
   "source": [
    "Use Cases and Advantages"
   ]
  },
  {
   "cell_type": "code",
   "execution_count": null,
   "id": "1fa31649",
   "metadata": {},
   "outputs": [],
   "source": [
    "# Returning multiple values from function\n",
    "def get_stats(numbers):\n",
    "    return min(numbers), max(numbers), sum(numbers)/len(numbers)\n",
    "\n",
    "min_val, max_val, avg_val = get_stats([1, 2, 3, 4, 5])\n",
    "\n",
    "# Dictionary keys (must be immutable)\n",
    "locations = {\n",
    "    (35.6895, 139.6917): \"Tokyo\",\n",
    "    (40.7128, -74.0060): \"New York\"\n",
    "}\n",
    "\n",
    "# String formatting\n",
    "person = (\"Alice\", 30)\n",
    "message = \"{} is {} years old\".format(*person)"
   ]
  },
  {
   "cell_type": "markdown",
   "id": "42772bfd",
   "metadata": {},
   "source": [
    "### 3. Dictionaries - Mutable Key-Value Mappings"
   ]
  },
  {
   "cell_type": "markdown",
   "id": "3c648a4c",
   "metadata": {},
   "source": [
    "Creation and Basic Operations"
   ]
  },
  {
   "cell_type": "code",
   "execution_count": null,
   "id": "48ea3640",
   "metadata": {},
   "outputs": [],
   "source": [
    "# Different ways to create dictionaries\n",
    "empty_dict = {}\n",
    "person = {\"name\": \"Alice\", \"age\": 30, \"city\": \"New York\"}\n",
    "using_dict = dict(name=\"Bob\", age=25)  # {'name': 'Bob', 'age': 25}\n",
    "from_tuples = dict([(\"name\", \"Charlie\"), (\"age\", 35)])\n",
    "\n",
    "# Dictionary comprehension\n",
    "squares = {x: x**2 for x in range(5)}  # {0: 0, 1: 1, 2: 4, 3: 9, 4: 16}"
   ]
  },
  {
   "cell_type": "markdown",
   "id": "4fdfcb37",
   "metadata": {},
   "source": [
    "Accessing and Modifying Elements"
   ]
  },
  {
   "cell_type": "code",
   "execution_count": null,
   "id": "33b5a622",
   "metadata": {},
   "outputs": [],
   "source": [
    "student = {\"name\": \"John\", \"age\": 20, \"major\": \"Computer Science\"}\n",
    "\n",
    "# Accessing values\n",
    "print(student[\"name\"])           # \"John\"\n",
    "print(student.get(\"age\"))        # 20\n",
    "print(student.get(\"grade\", \"N/A\"))  # \"N/A\" - default if key doesn't exist\n",
    "\n",
    "# Modifying and adding\n",
    "student[\"age\"] = 21              # Update existing\n",
    "student[\"gpa\"] = 3.8             # Add new key-value pair\n",
    "student.update({\"age\": 22, \"minor\": \"Math\"})  # Multiple updates\n",
    "\n",
    "# Removing elements\n",
    "age = student.pop(\"age\")         # Remove and return value\n",
    "del student[\"minor\"]             # Remove key-value pair\n",
    "key, value = student.popitem()   # Remove and return last item\n",
    "student.clear()                  # Empty dictionary"
   ]
  },
  {
   "cell_type": "markdown",
   "id": "4fd68126",
   "metadata": {},
   "source": [
    "Dictionary Methods and Iteration"
   ]
  },
  {
   "cell_type": "code",
   "execution_count": null,
   "id": "50bedf6f",
   "metadata": {},
   "outputs": [],
   "source": [
    "inventory = {\"apples\": 10, \"bananas\": 5, \"oranges\": 8}\n",
    "\n",
    "# Keys, values, and items\n",
    "print(list(inventory.keys()))     # ['apples', 'bananas', 'oranges']\n",
    "print(list(inventory.values()))   # [10, 5, 8]\n",
    "print(list(inventory.items()))    # [('apples', 10), ('bananas', 5), ('oranges', 8)]\n",
    "\n",
    "# Iteration\n",
    "for key in inventory:\n",
    "    print(key, inventory[key])\n",
    "\n",
    "for key, value in inventory.items():\n",
    "    print(f\"{key}: {value}\")\n",
    "\n",
    "# Membership testing\n",
    "print(\"apples\" in inventory)      # True\n",
    "print(\"grapes\" not in inventory)  # True"
   ]
  },
  {
   "cell_type": "markdown",
   "id": "13ebb165",
   "metadata": {},
   "source": [
    "Advanced Dictionary Operations"
   ]
  },
  {
   "cell_type": "code",
   "execution_count": null,
   "id": "1ed16d71",
   "metadata": {},
   "outputs": [],
   "source": [
    "# setdefault - get or set with default\n",
    "counts = {}\n",
    "for fruit in [\"apple\", \"banana\", \"apple\", \"orange\", \"banana\", \"apple\"]:\n",
    "    counts.setdefault(fruit, 0)\n",
    "    counts[fruit] += 1\n",
    "\n",
    "# Using defaultdict\n",
    "from collections import defaultdict\n",
    "dd = defaultdict(int)\n",
    "for fruit in [\"apple\", \"banana\", \"apple\"]:\n",
    "    dd[fruit] += 1\n",
    "\n",
    "# Merging dictionaries (Python 3.5+)\n",
    "dict1 = {\"a\": 1, \"b\": 2}\n",
    "dict2 = {\"b\": 3, \"c\": 4}\n",
    "merged = {**dict1, **dict2}       # {'a': 1, 'b': 3, 'c': 4}\n",
    "\n",
    "# Dictionary views\n",
    "keys_view = inventory.keys()\n",
    "values_view = inventory.values()"
   ]
  },
  {
   "cell_type": "markdown",
   "id": "f37b3281",
   "metadata": {},
   "source": [
    "### 4. Sets - Mutable Unordered Collections of Unique Elements"
   ]
  },
  {
   "cell_type": "markdown",
   "id": "48bc4722",
   "metadata": {},
   "source": [
    "Creation and Basic Operations"
   ]
  },
  {
   "cell_type": "code",
   "execution_count": null,
   "id": "f13761a2",
   "metadata": {},
   "outputs": [],
   "source": [
    "# Different ways to create sets\n",
    "empty_set = set()                # {} creates empty dict, not set!\n",
    "numbers = {1, 2, 3, 4, 5}\n",
    "from_list = set([1, 2, 2, 3, 3]) # {1, 2, 3} - duplicates removed\n",
    "from_string = set(\"hello\")       # {'h', 'e', 'l', 'o'}\n",
    "\n",
    "# Set comprehension\n",
    "squares = {x**2 for x in range(5)}  # {0, 1, 4, 9, 16}"
   ]
  },
  {
   "cell_type": "markdown",
   "id": "f91c1556",
   "metadata": {},
   "source": [
    "Set Operations and Methods"
   ]
  },
  {
   "cell_type": "code",
   "execution_count": null,
   "id": "7ee88863",
   "metadata": {},
   "outputs": [],
   "source": [
    "A = {1, 2, 3, 4, 5}\n",
    "B = {4, 5, 6, 7, 8}\n",
    "\n",
    "# Basic operations\n",
    "A.add(6)           # Add element\n",
    "A.remove(3)        # Remove element (raises KeyError if not found)\n",
    "A.discard(10)      # Remove if present (no error if not found)\n",
    "popped = A.pop()   # Remove and return arbitrary element\n",
    "A.clear()          # Remove all elements\n",
    "\n",
    "# Set operations\n",
    "union = A | B              # {1, 2, 3, 4, 5, 6, 7, 8}\n",
    "intersection = A & B       # {4, 5}\n",
    "difference = A - B         # {1, 2, 3}\n",
    "symmetric_diff = A ^ B     # {1, 2, 3, 6, 7, 8}\n",
    "\n",
    "# Methods equivalent to operators\n",
    "union_method = A.union(B)\n",
    "intersection_method = A.intersection(B)\n",
    "\n",
    "# Update operations\n",
    "A.update(B)        # A |= B\n",
    "A.intersection_update(B)  # A &= B"
   ]
  },
  {
   "cell_type": "markdown",
   "id": "6a328362",
   "metadata": {},
   "source": [
    "Set Relations and Testing"
   ]
  },
  {
   "cell_type": "code",
   "execution_count": null,
   "id": "e5c9a5dd",
   "metadata": {},
   "outputs": [],
   "source": [
    "X = {1, 2, 3}\n",
    "Y = {1, 2, 3, 4, 5}\n",
    "Z = {4, 5, 6}\n",
    "\n",
    "# Subset and superset testing\n",
    "print(X.issubset(Y))       # True\n",
    "print(Y.issuperset(X))     # True\n",
    "print(X.isdisjoint(Z))     # True - no common elements\n",
    "\n",
    "# Frozen sets (immutable sets)\n",
    "frozen = frozenset([1, 2, 3])\n",
    "# frozen.add(4)            # AttributeError - immutable"
   ]
  },
  {
   "cell_type": "markdown",
   "id": "611a5ac3",
   "metadata": {},
   "source": [
    "### 5. Comparative Analysis and Use Cases"
   ]
  },
  {
   "cell_type": "markdown",
   "id": "7adc7c09",
   "metadata": {},
   "source": [
    "Memory and Performance Characteristics"
   ]
  },
  {
   "cell_type": "code",
   "execution_count": null,
   "id": "8cf8b085",
   "metadata": {},
   "outputs": [],
   "source": [
    "import sys\n",
    "import timeit\n",
    "\n",
    "# Memory comparison\n",
    "data = list(range(1000))\n",
    "list_size = sys.getsizeof(data)\n",
    "tuple_size = sys.getsizeof(tuple(data))\n",
    "set_size = sys.getsizeof(set(data))\n",
    "\n",
    "print(f\"List: {list_size} bytes\")\n",
    "print(f\"Tuple: {tuple_size} bytes\") \n",
    "print(f\"Set: {set_size} bytes\")\n",
    "\n",
    "# Performance testing\n",
    "search_time_list = timeit.timeit('999 in data', setup='data=list(range(1000))', number=10000)\n",
    "search_time_set = timeit.timeit('999 in data', setup='data=set(range(1000))', number=10000)\n",
    "\n",
    "print(f\"List search: {search_time_list:.4f}s\")\n",
    "print(f\"Set search: {search_time_set:.4f}s\")  # Much faster!"
   ]
  },
  {
   "cell_type": "markdown",
   "id": "fe7f34af",
   "metadata": {},
   "source": [
    "Choosing the Right Data Structure"
   ]
  },
  {
   "cell_type": "code",
   "execution_count": null,
   "id": "ee38bd69",
   "metadata": {},
   "outputs": [],
   "source": [
    "# When to use each structure:\n",
    "\n",
    "# Lists: Ordered collections, need indexing, allow duplicates\n",
    "shopping_list = [\"milk\", \"eggs\", \"bread\"]\n",
    "student_grades = [85, 92, 78, 96]\n",
    "\n",
    "# Tuples: Immutable data, fixed structure, dictionary keys\n",
    "coordinates = (40.7128, -74.0060)\n",
    "RGB_color = (255, 128, 0)\n",
    "\n",
    "# Dictionaries: Key-value mappings, fast lookups by key\n",
    "user_profile = {\"username\": \"alice\", \"email\": \"alice@example.com\"}\n",
    "configuration = {\"host\": \"localhost\", \"port\": 8080, \"debug\": True}\n",
    "\n",
    "# Sets: Unique elements, membership testing, mathematical operations\n",
    "#unique_words = set(text.split())\n",
    "#valid_users = set(user_ids)"
   ]
  },
  {
   "cell_type": "markdown",
   "id": "c412f24d",
   "metadata": {},
   "source": [
    "Conversion Between Structures"
   ]
  },
  {
   "cell_type": "code",
   "execution_count": null,
   "id": "dfa3a16e",
   "metadata": {},
   "outputs": [],
   "source": [
    "# Converting between data structures\n",
    "original_list = [1, 2, 2, 3, 4, 4, 5]\n",
    "\n",
    "# List to other structures\n",
    "unique_set = set(original_list)          # {1, 2, 3, 4, 5}\n",
    "immutable_tuple = tuple(original_list)   # (1, 2, 2, 3, 4, 4, 5)\n",
    "index_dict = {i: val for i, val in enumerate(original_list)}  # {0: 1, 1: 2, ...}\n",
    "\n",
    "# Set to list (order not preserved)\n",
    "back_to_list = list(unique_set)          # [1, 2, 3, 4, 5] (order may vary)\n",
    "\n",
    "# Dictionary to other structures\n",
    "person = {\"name\": \"Alice\", \"age\": 30}\n",
    "keys_list = list(person.keys())          # [\"name\", \"age\"]\n",
    "values_tuple = tuple(person.values())    # (\"Alice\", 30)\n",
    "items_set = set(person.items())          # {(\"name\", \"Alice\"), (\"age\", 30)}"
   ]
  },
  {
   "cell_type": "markdown",
   "id": "da037f48",
   "metadata": {},
   "source": [
    "## 5. Functions - Code Organization\n",
    "Functions are fundamental building blocks in Python that enable code organization, reuse, and abstraction."
   ]
  },
  {
   "cell_type": "markdown",
   "id": "8fe0aa86",
   "metadata": {},
   "source": [
    "### 1. Function Definition and Basic Syntax"
   ]
  },
  {
   "cell_type": "markdown",
   "id": "cf516ad3",
   "metadata": {},
   "source": [
    "Basic Function Structure"
   ]
  },
  {
   "cell_type": "code",
   "execution_count": null,
   "id": "92985501",
   "metadata": {},
   "outputs": [],
   "source": [
    "def function_name(parameters):\n",
    "    \"\"\"Docstring - describes what the function does\"\"\"\n",
    "    # Function body\n",
    "    # Statements to execute\n",
    "    return result  # Optional return statement"
   ]
  },
  {
   "cell_type": "markdown",
   "id": "295eff0d",
   "metadata": {},
   "source": [
    "Simple Function Examples"
   ]
  },
  {
   "cell_type": "code",
   "execution_count": null,
   "id": "970e976b",
   "metadata": {},
   "outputs": [],
   "source": [
    "# Basic function without parameters or return value\n",
    "def greet():\n",
    "    \"\"\"Display a simple greeting\"\"\"\n",
    "    print(\"Hello, World!\")\n",
    "\n",
    "# Function with parameters\n",
    "def greet_person(name):\n",
    "    \"\"\"Greet a specific person\"\"\"\n",
    "    print(f\"Hello, {name}!\")\n",
    "\n",
    "# Function with return value\n",
    "def add_numbers(a, b):\n",
    "    \"\"\"Return the sum of two numbers\"\"\"\n",
    "    return a + b\n",
    "\n",
    "# Calling functions\n",
    "greet()  # Output: Hello, World!\n",
    "greet_person(\"Alice\")  # Output: Hello, Alice!\n",
    "result = add_numbers(5, 3)  # result = 8"
   ]
  },
  {
   "cell_type": "markdown",
   "id": "3ee09df9",
   "metadata": {},
   "source": [
    "### 2. Parameters and Arguments"
   ]
  },
  {
   "cell_type": "markdown",
   "id": "fb22fb33",
   "metadata": {},
   "source": [
    "Positional Arguments"
   ]
  },
  {
   "cell_type": "code",
   "execution_count": null,
   "id": "31fe9a3b",
   "metadata": {},
   "outputs": [],
   "source": [
    "def describe_pet(animal_type, pet_name):\n",
    "    \"\"\"Display information about a pet\"\"\"\n",
    "    print(f\"I have a {animal_type} named {pet_name}.\")\n",
    "\n",
    "# Positional arguments - order matters\n",
    "describe_pet(\"hamster\", \"Harry\")  # I have a hamster named Harry.\n",
    "describe_pet(\"Harry\", \"hamster\")  # I have a Harry named hamster. (Wrong!)"
   ]
  },
  {
   "cell_type": "markdown",
   "id": "532f2bbe",
   "metadata": {},
   "source": [
    "Keyword Arguments"
   ]
  },
  {
   "cell_type": "code",
   "execution_count": null,
   "id": "f2dc17d9",
   "metadata": {},
   "outputs": [],
   "source": [
    "def describe_pet(animal_type, pet_name):\n",
    "    \"\"\"Display information about a pet\"\"\"\n",
    "    print(f\"I have a {animal_type} named {pet_name}.\")\n",
    "\n",
    "# Keyword arguments - order doesn't matter\n",
    "describe_pet(animal_type=\"hamster\", pet_name=\"Harry\")\n",
    "describe_pet(pet_name=\"Harry\", animal_type=\"hamster\")\n",
    "\n",
    "# Mixing positional and keyword arguments\n",
    "describe_pet(\"hamster\", pet_name=\"Harry\")  # Positional first, then keyword"
   ]
  },
  {
   "cell_type": "markdown",
   "id": "f97753a7",
   "metadata": {},
   "source": [
    "Default Parameter Values"
   ]
  },
  {
   "cell_type": "code",
   "execution_count": null,
   "id": "d3965499",
   "metadata": {},
   "outputs": [],
   "source": [
    "def describe_pet(pet_name, animal_type=\"dog\"):\n",
    "    \"\"\"Display pet info with default animal type\"\"\"\n",
    "    print(f\"I have a {animal_type} named {pet_name}.\")\n",
    "\n",
    "# Using default value\n",
    "describe_pet(\"Willie\")  # I have a dog named Willie.\n",
    "\n",
    "# Overriding default value\n",
    "describe_pet(\"Harry\", \"hamster\")  # I have a hamster named Harry.\n",
    "describe_pet(pet_name=\"Harry\", animal_type=\"hamster\")\n",
    "\n",
    "# Important: Default parameters are evaluated only once!\n",
    "def add_item(item, items=[]):  # Dangerous!\n",
    "    items.append(item)\n",
    "    return items\n",
    "\n",
    "print(add_item(1))  # [1]\n",
    "print(add_item(2))  # [1, 2] - Same list!\n",
    "\n",
    "# Correct approach:\n",
    "def add_item_fixed(item, items=None):\n",
    "    if items is None:\n",
    "        items = []\n",
    "    items.append(item)\n",
    "    return items"
   ]
  },
  {
   "cell_type": "markdown",
   "id": "64099072",
   "metadata": {},
   "source": [
    "Variable-Length Arguments\\\n",
    "*args - Variable positional arguments"
   ]
  },
  {
   "cell_type": "code",
   "execution_count": null,
   "id": "fbe3503b",
   "metadata": {},
   "outputs": [],
   "source": [
    "def make_pizza(*toppings):\n",
    "    \"\"\"Print the list of toppings that have been requested\"\"\"\n",
    "    print(\"Making a pizza with the following toppings:\")\n",
    "    for topping in toppings:\n",
    "        print(f\"- {topping}\")\n",
    "\n",
    "make_pizza('pepperoni')\n",
    "make_pizza('mushrooms', 'green peppers', 'extra cheese')\n",
    "\n",
    "# args is a tuple\n",
    "def sum_numbers(*args):\n",
    "    print(f\"Type of args: {type(args)}\")  # <class 'tuple'>\n",
    "    return sum(args)\n",
    "\n",
    "print(sum_numbers(1, 2, 3, 4, 5))  # 15"
   ]
  },
  {
   "cell_type": "markdown",
   "id": "04115303",
   "metadata": {},
   "source": [
    "**kwargs - Variable keyword arguments"
   ]
  },
  {
   "cell_type": "code",
   "execution_count": null,
   "id": "2815d751",
   "metadata": {},
   "outputs": [],
   "source": [
    "def build_profile(first, last, **user_info):\n",
    "    \"\"\"Build a dictionary containing everything we know about a user\"\"\"\n",
    "    profile = {'first_name': first, 'last_name': last}\n",
    "    for key, value in user_info.items():\n",
    "        profile[key] = value\n",
    "    return profile\n",
    "\n",
    "user_profile = build_profile('albert', 'einstein',\n",
    "                            location='princeton',\n",
    "                            field='physics')\n",
    "print(user_profile)\n",
    "# {'first_name': 'albert', 'last_name': 'einstein', \n",
    "#  'location': 'princeton', 'field': 'physics'}\n",
    "\n",
    "# kwargs is a dictionary\n",
    "def print_kwargs(**kwargs):\n",
    "    for key, value in kwargs.items():\n",
    "        print(f\"{key}: {value}\")\n",
    "\n",
    "print_kwargs(name=\"Alice\", age=30, city=\"New York\")"
   ]
  },
  {
   "cell_type": "markdown",
   "id": "9a9ee230",
   "metadata": {},
   "source": [
    "Combining Different Argument Types"
   ]
  },
  {
   "cell_type": "code",
   "execution_count": null,
   "id": "9c484add",
   "metadata": {},
   "outputs": [],
   "source": [
    "def complex_function(a, b, *args, c=10, d=20, **kwargs):\n",
    "    \"\"\"Example of combining all argument types\"\"\"\n",
    "    print(f\"a: {a}, b: {b}\")\n",
    "    print(f\"args: {args}\")\n",
    "    print(f\"c: {c}, d: {d}\")\n",
    "    print(f\"kwargs: {kwargs}\")\n",
    "\n",
    "complex_function(1, 2, 3, 4, 5, c=15, e=25, f=35)\n",
    "# a: 1, b: 2\n",
    "# args: (3, 4, 5)\n",
    "# c: 15, d: 20\n",
    "# kwargs: {'e': 25, 'f': 35}"
   ]
  },
  {
   "cell_type": "markdown",
   "id": "460fe73e",
   "metadata": {},
   "source": [
    "### 3. Return Values and Multiple Returns"
   ]
  },
  {
   "cell_type": "markdown",
   "id": "20d3040a",
   "metadata": {},
   "source": [
    "Single Return Value"
   ]
  },
  {
   "cell_type": "code",
   "execution_count": null,
   "id": "1a55ce56",
   "metadata": {},
   "outputs": [],
   "source": [
    "def get_formatted_name(first_name, last_name):\n",
    "    \"\"\"Return a full name, neatly formatted\"\"\"\n",
    "    full_name = f\"{first_name} {last_name}\"\n",
    "    return full_name.title()\n",
    "\n",
    "musician = get_formatted_name('jimi', 'hendrix')\n",
    "print(musician)  # Jimi Hendrix"
   ]
  },
  {
   "cell_type": "markdown",
   "id": "2c7abac0",
   "metadata": {},
   "source": [
    "Multiple Return Values (as Tuple)"
   ]
  },
  {
   "cell_type": "code",
   "execution_count": null,
   "id": "544d55db",
   "metadata": {},
   "outputs": [],
   "source": [
    "def operate_numbers(a, b):\n",
    "    \"\"\"Return multiple operations on two numbers\"\"\"\n",
    "    sum_result = a + b\n",
    "    difference = a - b\n",
    "    product = a * b\n",
    "    quotient = a / b if b != 0 else None\n",
    "    return sum_result, difference, product, quotient\n",
    "\n",
    "results = operate_numbers(10, 5)\n",
    "print(results)  # (15, 5, 50, 2.0)\n",
    "\n",
    "# Unpacking multiple return values\n",
    "sum_val, diff_val, prod_val, quot_val = operate_numbers(10, 5)"
   ]
  },
  {
   "cell_type": "markdown",
   "id": "9fb13f10",
   "metadata": {},
   "source": [
    "Early Returns and Conditional Returns"
   ]
  },
  {
   "cell_type": "code",
   "execution_count": null,
   "id": "ed6f3cc2",
   "metadata": {},
   "outputs": [],
   "source": [
    "def check_number(n):\n",
    "    \"\"\"Demonstrate early returns\"\"\"\n",
    "    if n < 0:\n",
    "        return \"Negative\"\n",
    "    elif n == 0:\n",
    "        return \"Zero\"\n",
    "    elif n % 2 == 0:\n",
    "        return \"Even\"\n",
    "    else:\n",
    "        return \"Odd\"\n",
    "\n",
    "def find_first_even(numbers):\n",
    "    \"\"\"Return first even number or None\"\"\"\n",
    "    for num in numbers:\n",
    "        if num % 2 == 0:\n",
    "            return num\n",
    "    return None  # Explicit return None (optional)\n",
    "\n",
    "print(find_first_even([1, 3, 5, 7, 8, 9]))  # 8\n",
    "print(find_first_even([1, 3, 5, 7]))        # None"
   ]
  },
  {
   "cell_type": "markdown",
   "id": "08d3304e",
   "metadata": {},
   "source": [
    "### 4. Function Scope and Namespaces"
   ]
  },
  {
   "cell_type": "markdown",
   "id": "00fc3f1a",
   "metadata": {},
   "source": [
    "Local vs Global Scope"
   ]
  },
  {
   "cell_type": "code",
   "execution_count": null,
   "id": "4ab8bf77",
   "metadata": {},
   "outputs": [],
   "source": [
    "x = 10  # Global variable\n",
    "\n",
    "def test_scope():\n",
    "    y = 20  # Local variable\n",
    "    print(f\"Inside function - x: {x}, y: {y}\")  # Can access global x\n",
    "\n",
    "test_scope()\n",
    "print(f\"Outside function - x: {x}\")  # x: 10\n",
    "# print(y)  # NameError: name 'y' is not defined"
   ]
  },
  {
   "cell_type": "markdown",
   "id": "922e101c",
   "metadata": {},
   "source": [
    "Modifying Global Variables"
   ]
  },
  {
   "cell_type": "code",
   "execution_count": null,
   "id": "ffe1dcd7",
   "metadata": {},
   "outputs": [],
   "source": [
    "counter = 0\n",
    "\n",
    "def increment_counter():\n",
    "    global counter  # Declare as global to modify\n",
    "    counter += 1\n",
    "    print(f\"Counter inside: {counter}\")\n",
    "\n",
    "increment_counter()  # Counter inside: 1\n",
    "print(f\"Counter outside: {counter}\")  # Counter outside: 1\n",
    "\n",
    "# Without global declaration\n",
    "def increment_local():\n",
    "    counter = 100  # Creates new local variable\n",
    "    print(f\"Local counter: {counter}\")\n",
    "\n",
    "increment_local()  # Local counter: 100\n",
    "print(f\"Global counter: {counter}\")  # Global counter: 1 (unchanged)"
   ]
  },
  {
   "cell_type": "markdown",
   "id": "6fce0612",
   "metadata": {},
   "source": [
    "Nested Functions and Nonlocal"
   ]
  },
  {
   "cell_type": "code",
   "execution_count": null,
   "id": "c9ecf589",
   "metadata": {},
   "outputs": [],
   "source": [
    "def outer_function():\n",
    "    x = \"local to outer\"\n",
    "    \n",
    "    def inner_function():\n",
    "        nonlocal x  # Refers to variable in enclosing function\n",
    "        x = \"modified by inner\"\n",
    "        print(f\"Inner: {x}\")\n",
    "    \n",
    "    inner_function()\n",
    "    print(f\"Outer: {x}\")\n",
    "\n",
    "outer_function()\n",
    "# Inner: modified by inner\n",
    "# Outer: modified by inner"
   ]
  },
  {
   "cell_type": "markdown",
   "id": "73b5b311",
   "metadata": {},
   "source": [
    "LEGB Rule (Local, Enclosing, Global, Built-in)"
   ]
  },
  {
   "cell_type": "code",
   "execution_count": null,
   "id": "2fdbd800",
   "metadata": {},
   "outputs": [],
   "source": [
    "# Built-in scope (B)\n",
    "print(len(\"hello\"))  # len is built-in\n",
    "\n",
    "# Global scope (G)\n",
    "global_var = \"global\"\n",
    "\n",
    "def outer():\n",
    "    # Enclosing scope (E)\n",
    "    enclosing_var = \"enclosing\"\n",
    "    \n",
    "    def inner():\n",
    "        # Local scope (L)\n",
    "        local_var = \"local\"\n",
    "        print(local_var)        # Local\n",
    "        print(enclosing_var)    # Enclosing  \n",
    "        print(global_var)       # Global\n",
    "        print(len(\"test\"))      # Built-in\n",
    "    \n",
    "    inner()\n",
    "\n",
    "outer()"
   ]
  },
  {
   "cell_type": "markdown",
   "id": "1dae7f4b",
   "metadata": {},
   "source": [
    "### 5. Advanced Function Features"
   ]
  },
  {
   "cell_type": "markdown",
   "id": "2fb40700",
   "metadata": {},
   "source": [
    "First-Class Functions"
   ]
  },
  {
   "cell_type": "code",
   "execution_count": null,
   "id": "addc95fa",
   "metadata": {},
   "outputs": [],
   "source": [
    "def square(x):\n",
    "    return x ** 2\n",
    "\n",
    "def cube(x):\n",
    "    return x ** 3\n",
    "\n",
    "# Functions as variables\n",
    "operation = square\n",
    "print(operation(5))  # 25\n",
    "\n",
    "operation = cube\n",
    "print(operation(5))  # 125\n",
    "\n",
    "# Functions as arguments\n",
    "def apply_operation(func, numbers):\n",
    "    return [func(x) for x in numbers]\n",
    "\n",
    "numbers = [1, 2, 3, 4, 5]\n",
    "squares = apply_operation(square, numbers)  # [1, 4, 9, 16, 25]\n",
    "cubes = apply_operation(cube, numbers)      # [1, 8, 27, 64, 125]"
   ]
  },
  {
   "cell_type": "markdown",
   "id": "f0936136",
   "metadata": {},
   "source": [
    "Higher-Order Functions"
   ]
  },
  {
   "cell_type": "code",
   "execution_count": null,
   "id": "fc78f108",
   "metadata": {},
   "outputs": [],
   "source": [
    "def create_multiplier(factor):\n",
    "    \"\"\"Return a function that multiplies by factor\"\"\"\n",
    "    def multiplier(x):\n",
    "        return x * factor\n",
    "    return multiplier\n",
    "\n",
    "double = create_multiplier(2)\n",
    "triple = create_multiplier(3)\n",
    "\n",
    "print(double(5))  # 10\n",
    "print(triple(5))  # 15\n",
    "\n",
    "# Using lambda for simple functions\n",
    "square = lambda x: x ** 2\n",
    "print(square(4))  # 16"
   ]
  },
  {
   "cell_type": "markdown",
   "id": "0c1c8d4a",
   "metadata": {},
   "source": [
    "Decorators"
   ]
  },
  {
   "cell_type": "code",
   "execution_count": null,
   "id": "70277b32",
   "metadata": {},
   "outputs": [],
   "source": [
    "import time\n",
    "def timer_decorator(func):\n",
    "    \"\"\"Decorator to measure function execution time\"\"\"\n",
    "    import time\n",
    "    \n",
    "    def wrapper(*args, **kwargs):\n",
    "        start_time = time.time()\n",
    "        result = func(*args, **kwargs)\n",
    "        end_time = time.time()\n",
    "        print(f\"{func.__name__} executed in {end_time - start_time:.4f} seconds\")\n",
    "        return result\n",
    "    \n",
    "    return wrapper\n",
    "\n",
    "@timer_decorator\n",
    "def slow_function():\n",
    "    \"\"\"Simulate a slow function\"\"\"\n",
    "    time.sleep(2)\n",
    "    return \"Done\"\n",
    "\n",
    "# Equivalent to: slow_function = timer_decorator(slow_function)\n",
    "result = slow_function()  # Automatically timed\n",
    "\n",
    "# Decorator with parameters\n",
    "def repeat(n):\n",
    "    \"\"\"Decorator to repeat function execution\"\"\"\n",
    "    def decorator(func):\n",
    "        def wrapper(*args, **kwargs):\n",
    "            for i in range(n):\n",
    "                result = func(*args, **kwargs)\n",
    "            return result\n",
    "        return wrapper\n",
    "    return decorator\n",
    "\n",
    "@repeat(3)\n",
    "def say_hello():\n",
    "    print(\"Hello!\")\n",
    "\n",
    "say_hello()  # Prints \"Hello!\" 3 times"
   ]
  },
  {
   "cell_type": "markdown",
   "id": "de949184",
   "metadata": {},
   "source": [
    "### 6. Lambda Functions"
   ]
  },
  {
   "cell_type": "markdown",
   "id": "74373fd4",
   "metadata": {},
   "source": [
    "Basic Lambda Syntax"
   ]
  },
  {
   "cell_type": "code",
   "execution_count": null,
   "id": "b709fd5a",
   "metadata": {},
   "outputs": [],
   "source": [
    "# Traditional function\n",
    "def square(x):\n",
    "    return x ** 2\n",
    "\n",
    "# Equivalent lambda\n",
    "square = lambda x: x ** 2\n",
    "\n",
    "# Using lambda directly\n",
    "print((lambda x: x ** 2)(5))  # 25\n",
    "\n",
    "# Multiple parameters\n",
    "add = lambda a, b: a + b\n",
    "print(add(3, 7))  # 10"
   ]
  },
  {
   "cell_type": "markdown",
   "id": "d9ac3c70",
   "metadata": {},
   "source": [
    "Common Use Cases for Lambda"
   ]
  },
  {
   "cell_type": "code",
   "execution_count": null,
   "id": "d75121e1",
   "metadata": {},
   "outputs": [],
   "source": [
    "# Sorting with custom key\n",
    "students = [\n",
    "    {'name': 'Alice', 'grade': 85},\n",
    "    {'name': 'Bob', 'grade': 92},\n",
    "    {'name': 'Charlie', 'grade': 78}\n",
    "]\n",
    "\n",
    "# Sort by grade\n",
    "students.sort(key=lambda student: student['grade'])\n",
    "print(students)\n",
    "\n",
    "# Filtering\n",
    "numbers = [1, 2, 3, 4, 5, 6, 7, 8, 9, 10]\n",
    "even_numbers = list(filter(lambda x: x % 2 == 0, numbers))\n",
    "\n",
    "# Mapping\n",
    "squared = list(map(lambda x: x ** 2, numbers))\n",
    "\n",
    "# In GUI programming (event handlers)\n",
    "# button.clicked.connect(lambda: print(\"Button clicked!\"))"
   ]
  },
  {
   "cell_type": "markdown",
   "id": "679a2b5c",
   "metadata": {},
   "source": [
    "### 7. Function Annotations and Type Hints"
   ]
  },
  {
   "cell_type": "markdown",
   "id": "a96f880a",
   "metadata": {},
   "source": [
    "Basic Type Hints"
   ]
  },
  {
   "cell_type": "code",
   "execution_count": null,
   "id": "f9bf9115",
   "metadata": {},
   "outputs": [],
   "source": [
    "def greet(name: str) -> str:\n",
    "    \"\"\"Greet a person with type hints\"\"\"\n",
    "    return f\"Hello, {name}!\"\n",
    "\n",
    "def calculate_area(length: float, width: float) -> float:\n",
    "    \"\"\"Calculate area of rectangle\"\"\"\n",
    "    return length * width\n",
    "\n",
    "# Complex type hints\n",
    "from typing import List, Dict, Optional, Union\n",
    "\n",
    "def process_data(\n",
    "    numbers: List[int], \n",
    "    config: Dict[str, Union[int, str]],\n",
    "    threshold: Optional[float] = None\n",
    ") -> bool:\n",
    "    \"\"\"Process data with complex type hints\"\"\"\n",
    "    if threshold and sum(numbers) > threshold:\n",
    "        return True\n",
    "    return False"
   ]
  },
  {
   "cell_type": "markdown",
   "id": "6d2e7a13",
   "metadata": {},
   "source": [
    "Variable Annotations"
   ]
  },
  {
   "cell_type": "code",
   "execution_count": null,
   "id": "913ce8f1",
   "metadata": {},
   "outputs": [],
   "source": [
    "# Function with annotated variables\n",
    "def calculate_statistics(data: List[float]) -> Dict[str, float]:\n",
    "    count: int = len(data)\n",
    "    total: float = sum(data)\n",
    "    average: float = total / count if count > 0 else 0\n",
    "    \n",
    "    return {\n",
    "        'count': count,\n",
    "        'total': total,\n",
    "        'average': average\n",
    "    }"
   ]
  },
  {
   "cell_type": "markdown",
   "id": "3c9388e3",
   "metadata": {},
   "source": [
    "### 8. Generator Functions"
   ]
  },
  {
   "cell_type": "markdown",
   "id": "aa4c0a87",
   "metadata": {},
   "source": [
    "Basic Generator Function"
   ]
  },
  {
   "cell_type": "code",
   "execution_count": null,
   "id": "89715d17",
   "metadata": {},
   "outputs": [],
   "source": [
    "def count_up_to(max):\n",
    "    \"\"\"Generator that counts up to max\"\"\"\n",
    "    count = 1\n",
    "    while count <= max:\n",
    "        yield count\n",
    "        count += 1\n",
    "\n",
    "# Using the generator\n",
    "counter = count_up_to(5)\n",
    "print(next(counter))  # 1\n",
    "print(next(counter))  # 2\n",
    "\n",
    "# Or iterate through it\n",
    "for num in count_up_to(3):\n",
    "    print(num)  # 1, 2, 3"
   ]
  },
  {
   "cell_type": "markdown",
   "id": "44e76a5e",
   "metadata": {},
   "source": [
    "Memory-Efficient Generators"
   ]
  },
  {
   "cell_type": "code",
   "execution_count": null,
   "id": "643b0e3c",
   "metadata": {},
   "outputs": [],
   "source": [
    "def read_large_file(file_path):\n",
    "    \"\"\"Generator to read large file line by line\"\"\"\n",
    "    with open(file_path, 'r') as file:\n",
    "        for line in file:\n",
    "            yield line.strip()\n",
    "\n",
    "# Memory efficient - only one line in memory at a time\n",
    "# for line in read_large_file('huge_file.txt'):\n",
    "#     process(line)\n",
    "\n",
    "def fibonacci_sequence():\n",
    "    \"\"\"Generate Fibonacci sequence indefinitely\"\"\"\n",
    "    a, b = 0, 1\n",
    "    while True:\n",
    "        yield a\n",
    "        a, b = b, a + b\n",
    "\n",
    "# fib = fibonacci_sequence()\n",
    "# for _ in range(10):\n",
    "#     print(next(fib))"
   ]
  },
  {
   "cell_type": "markdown",
   "id": "b2ae716d",
   "metadata": {},
   "source": [
    "### 9. Recursive Functions"
   ]
  },
  {
   "cell_type": "markdown",
   "id": "8f52c375",
   "metadata": {},
   "source": [
    "Basic Recursion"
   ]
  },
  {
   "cell_type": "code",
   "execution_count": null,
   "id": "d1fd6d57",
   "metadata": {},
   "outputs": [],
   "source": [
    "def factorial(n):\n",
    "    \"\"\"Calculate factorial using recursion\"\"\"\n",
    "    if n == 0 or n == 1:\n",
    "        return 1\n",
    "    else:\n",
    "        return n * factorial(n - 1)\n",
    "\n",
    "print(factorial(5))  # 120\n",
    "\n",
    "def fibonacci(n):\n",
    "    \"\"\"Calculate nth Fibonacci number recursively\"\"\"\n",
    "    if n <= 1:\n",
    "        return n\n",
    "    else:\n",
    "        return fibonacci(n - 1) + fibonacci(n - 2)\n",
    "\n",
    "print(fibonacci(6))  # 8"
   ]
  },
  {
   "cell_type": "markdown",
   "id": "6fefbcb2",
   "metadata": {},
   "source": [
    "Recursion with Memoization"
   ]
  },
  {
   "cell_type": "code",
   "execution_count": null,
   "id": "c6f43d22",
   "metadata": {},
   "outputs": [],
   "source": [
    "def fibonacci_memo(n, memo={}):\n",
    "    \"\"\"Fibonacci with memoization to avoid repeated calculations\"\"\"\n",
    "    if n in memo:\n",
    "        return memo[n]\n",
    "    \n",
    "    if n <= 1:\n",
    "        return n\n",
    "    \n",
    "    memo[n] = fibonacci_memo(n - 1, memo) + fibonacci_memo(n - 2, memo)\n",
    "    return memo[n]\n",
    "\n",
    "print(fibonacci_memo(50))  # Computes quickly due to memoization"
   ]
  }
 ],
 "metadata": {
  "kernelspec": {
   "display_name": "Python 3",
   "language": "python",
   "name": "python3"
  },
  "language_info": {
   "codemirror_mode": {
    "name": "ipython",
    "version": 3
   },
   "file_extension": ".py",
   "mimetype": "text/x-python",
   "name": "python",
   "nbconvert_exporter": "python",
   "pygments_lexer": "ipython3",
   "version": "3.13.7"
  }
 },
 "nbformat": 4,
 "nbformat_minor": 5
}
